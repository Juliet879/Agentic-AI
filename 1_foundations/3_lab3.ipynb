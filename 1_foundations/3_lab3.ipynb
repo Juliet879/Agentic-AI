{
 "cells": [
  {
   "cell_type": "markdown",
   "metadata": {},
   "source": [
    "## Welcome to Lab 3 for Week 1 Day 4\n",
    "\n",
    "Today we're going to build something with immediate value!\n",
    "\n",
    "In the folder `me` I've put a single file `linkedin.pdf` - it's a PDF download of my LinkedIn profile.\n",
    "\n",
    "Please replace it with yours!\n",
    "\n",
    "I've also made a file called `summary.txt`\n",
    "\n",
    "We're not going to use Tools just yet - we're going to add the tool tomorrow."
   ]
  },
  {
   "cell_type": "markdown",
   "metadata": {},
   "source": [
    "<table style=\"margin: 0; text-align: left; width:100%\">\n",
    "    <tr>\n",
    "        <td style=\"width: 150px; height: 150px; vertical-align: middle;\">\n",
    "            <img src=\"../assets/tools.png\" width=\"150\" height=\"150\" style=\"display: block;\" />\n",
    "        </td>\n",
    "        <td>\n",
    "            <h2 style=\"color:#00bfff;\">Looking up packages</h2>\n",
    "            <span style=\"color:#00bfff;\">In this lab, we're going to use the wonderful Gradio package for building quick UIs, \n",
    "            and we're also going to use the popular PyPDF PDF reader. You can get guides to these packages by asking \n",
    "            ChatGPT or Claude, and you find all open-source packages on the repository <a href=\"https://pypi.org\">https://pypi.org</a>.\n",
    "            </span>\n",
    "        </td>\n",
    "    </tr>\n",
    "</table>"
   ]
  },
  {
   "cell_type": "code",
   "execution_count": 13,
   "metadata": {},
   "outputs": [],
   "source": [
    "# If you don't know what any of these packages do - you can always ask ChatGPT for a guide!\n",
    "\n",
    "from dotenv import load_dotenv\n",
    "from openai import OpenAI\n",
    "from pypdf import PdfReader\n",
    "import gradio as gr\n",
    "import os"
   ]
  },
  {
   "cell_type": "code",
   "execution_count": 3,
   "metadata": {},
   "outputs": [
    {
     "data": {
      "text/plain": [
       "True"
      ]
     },
     "execution_count": 3,
     "metadata": {},
     "output_type": "execute_result"
    }
   ],
   "source": [
    "load_dotenv(override=True)"
   ]
  },
  {
   "cell_type": "code",
   "execution_count": 4,
   "metadata": {},
   "outputs": [],
   "source": [
    "reader = PdfReader(\"me/linkedin.pdf\")\n",
    "linkedin = \"\"\n",
    "for page in reader.pages:\n",
    "    text = page.extract_text()\n",
    "    if text:\n",
    "        linkedin += text"
   ]
  },
  {
   "cell_type": "code",
   "execution_count": 5,
   "metadata": {},
   "outputs": [
    {
     "name": "stdout",
     "output_type": "stream",
     "text": [
      "   \n",
      "Contact\n",
      "gisembajuliett@gmail.com\n",
      "www.linkedin.com/in/juliet-\n",
      "gisemba-a32903208 (LinkedIn)\n",
      "Top Skills\n",
      "English\n",
      "Communication\n",
      "Leadership\n",
      "Juliet Gisemba\n",
      "Software Engineer, Android\n",
      "Nairobi County, Kenya\n",
      "Summary\n",
      "Juliet is a dynamic and versatile software developer driven by\n",
      "curiosity and a genuine passion for empowering youth. With a strong\n",
      "commitment to continuous learning, she thrives on tackling real-\n",
      "world challenges through innovative, human-centered technology\n",
      "solutions.\n",
      "Her journey in tech has been shaped by active involvement in\n",
      "communities like the Google Developer Student Club, Andela\n",
      "Learning Community, and Google Africa Developers, where she\n",
      "has honed her skills in Android Development (Kotlin), Mobile-Web\n",
      "Development, and more. Juliet values authentic connections and\n",
      "collaborative growth, always eager to learn from others and share\n",
      "her knowledge.\n",
      "She is proficient in:\n",
      "- Programming Languages: Kotlin, Python, JavaScript, HTML/CSS,\n",
      "Bootstrap, Java, React Native\n",
      "- Frameworks: React, Django, React JS\n",
      "- Tools: Android Studio, Visual Studio Code\n",
      "Beyond coding, Juliet enjoys reading, mentoring young people, and\n",
      "taking walks to recharge and find inspiration. She is passionate\n",
      "about using technology to create a meaningful impact and is always\n",
      "open to new opportunities for growth and collaboration.\n",
      "Experience\n",
      "Amarula Solutions\n",
      "3 years 3 months\n",
      "Mobile Application Developer\n",
      "February 2022 - January 2025 (3 years)\n",
      "Prague, Czechia\n",
      "  Page 1 of 3   \n",
      "At Amarula Solutions, I developed and maintained cross-platform mobile\n",
      "applications using React Native for remote system control and tire pressure\n",
      "monitoring. I implemented MVVM architecture, optimized network calls with\n",
      "Retrofit, and leveraged Kotlin Coroutines/Flow for efficient asynchronous\n",
      "operations. My work enhanced app engagement by 20% through intuitive\n",
      "UI/UX design and reduced latency by 30% by diagnosing and resolving\n",
      "performance issues. I also collaborated with the team to adopt Agile\n",
      "methodologies, accelerating feature delivery and ensuring robust, scalable app\n",
      "functionality.\n",
      "Android Developer Intern\n",
      "November 2021 - January 2022 (3 months)\n",
      "Prague, Czechia\n",
      "AkiraChix\n",
      "Instructor\n",
      "February 2024 - April 2024 (3 months)\n",
      "Karen ward, Nairobi County, Kenya\n",
      "Mentored learners in version control (Git/GitHub), Agile methodologies, and\n",
      "collaboration tools like Jira and Gerrit\n",
      "Enhanced team productivity by fostering a culture of continuous learning and\n",
      "effective remote collaboration\n",
      "ACAT(Africa Centre for Advanced Technology)  - Machakos\n",
      "Technical Institute For The Blind\n",
      "Senior Instructor\n",
      "January 2023 - March 2023 (3 months)\n",
      "Machakos, Machakos County, Kenya\n",
      "Led Android content development for higher education institutions in Kenya,\n",
      "focusing on Jetpack Compose and modern Android development practices\n",
      "Trained technical trainers to deliver Android courses, increasing the training\n",
      "phase\n",
      "delivery by 10%\n",
      "Spearheaded the establishment of Google Developer Clubs in Kenyan\n",
      "institutions,\n",
      "fostering a culture of innovation and technical excellence\n",
      "Conducted Trainer of Trainers (TOT) programs to scale Android training\n",
      "initiatives\n",
      "across the region\n",
      "  Page 2 of 3   \n",
      "Education\n",
      "AkiraChix\n",
      "Software Development · (February 2021 - November 2021)\n",
      "Google Africa Developers Scholarship\n",
      "Mobile Web Development · (July 2021 - September 2021)\n",
      "Moringa School\n",
      "Software Development · (June 2020 - November 2020)\n",
      "  Page 3 of 3\n"
     ]
    }
   ],
   "source": [
    "print(linkedin)"
   ]
  },
  {
   "cell_type": "code",
   "execution_count": 10,
   "metadata": {},
   "outputs": [],
   "source": [
    "with open(\"me/summary.txt\", \"r\", encoding=\"utf-8\") as f:\n",
    "    summary = f.read()"
   ]
  },
  {
   "cell_type": "code",
   "execution_count": 7,
   "metadata": {},
   "outputs": [],
   "source": [
    "name = \"Juliet Gisemba\""
   ]
  },
  {
   "cell_type": "code",
   "execution_count": 11,
   "metadata": {},
   "outputs": [],
   "source": [
    "system_prompt = f\"You are acting as {name}. You are answering questions on {name}'s website, \\\n",
    "particularly questions related to {name}'s career, background, skills and experience. \\\n",
    "Your responsibility is to represent {name} for interactions on the website as faithfully as possible. \\\n",
    "You are given a summary of {name}'s background and LinkedIn profile which you can use to answer questions. \\\n",
    "Be professional and engaging, as if talking to a potential client or future employer who came across the website. \\\n",
    "If you don't know the answer, say so.\"\n",
    "\n",
    "system_prompt += f\"\\n\\n## Summary:\\n{summary}\\n\\n## LinkedIn Profile:\\n{linkedin}\\n\\n\"\n",
    "system_prompt += f\"With this context, please chat with the user, always staying in character as {name}.\"\n"
   ]
  },
  {
   "cell_type": "code",
   "execution_count": 12,
   "metadata": {},
   "outputs": [
    {
     "data": {
      "text/plain": [
       "\"You are acting as Juliet Gisemba. You are answering questions on Juliet Gisemba's website, particularly questions related to Juliet Gisemba's career, background, skills and experience. Your responsibility is to represent Juliet Gisemba for interactions on the website as faithfully as possible. You are given a summary of Juliet Gisemba's background and LinkedIn profile which you can use to answer questions. Be professional and engaging, as if talking to a potential client or future employer who came across the website. If you don't know the answer, say so.\\n\\n## Summary:\\nJuliet is a creative and impact-driven mobile developer with 4+ years of experience building Android, iOS, and cross-platform apps using Kotlin, Swift, Java, and React Native. Passionate about turning ideas into intuitive, real-world solutions that uplift communities and drive digital change. Known for strong collaboration, mentorship, and delivering apps that align tech with purpose.\\n\\n## LinkedIn Profile:\\n\\xa0 \\xa0\\nContact\\ngisembajuliett@gmail.com\\nwww.linkedin.com/in/juliet-\\ngisemba-a32903208 (LinkedIn)\\nTop Skills\\nEnglish\\nCommunication\\nLeadership\\nJuliet Gisemba\\nSoftware Engineer, Android\\nNairobi County, Kenya\\nSummary\\nJuliet is a dynamic and versatile software developer driven by\\ncuriosity and a genuine passion for empowering youth. With a strong\\ncommitment to continuous learning, she thrives on tackling real-\\nworld challenges through innovative, human-centered technology\\nsolutions.\\nHer journey in tech has been shaped by active involvement in\\ncommunities like the Google Developer Student Club, Andela\\nLearning Community, and Google Africa Developers, where she\\nhas honed her skills in Android Development (Kotlin), Mobile-Web\\nDevelopment, and more. Juliet values authentic connections and\\ncollaborative growth, always eager to learn from others and share\\nher knowledge.\\nShe is proficient in:\\n- Programming Languages: Kotlin, Python, JavaScript, HTML/CSS,\\nBootstrap, Java, React Native\\n- Frameworks: React, Django, React JS\\n- Tools: Android Studio, Visual Studio Code\\nBeyond coding, Juliet enjoys reading, mentoring young people, and\\ntaking walks to recharge and find inspiration. She is passionate\\nabout using technology to create a meaningful impact and is always\\nopen to new opportunities for growth and collaboration.\\nExperience\\nAmarula Solutions\\n3 years 3 months\\nMobile Application Developer\\nFebruary 2022\\xa0-\\xa0January 2025\\xa0(3 years)\\nPrague, Czechia\\n\\xa0 Page 1 of 3\\xa0 \\xa0\\nAt Amarula Solutions, I developed and maintained cross-platform mobile\\napplications using React Native for remote system control and tire pressure\\nmonitoring. I implemented MVVM architecture, optimized network calls with\\nRetrofit, and leveraged Kotlin Coroutines/Flow for efficient asynchronous\\noperations. My work enhanced app engagement by 20% through intuitive\\nUI/UX design and reduced latency by 30% by diagnosing and resolving\\nperformance issues. I also collaborated with the team to adopt Agile\\nmethodologies, accelerating feature delivery and ensuring robust, scalable app\\nfunctionality.\\nAndroid Developer Intern\\nNovember 2021\\xa0-\\xa0January 2022\\xa0(3 months)\\nPrague, Czechia\\nAkiraChix\\nInstructor\\nFebruary 2024\\xa0-\\xa0April 2024\\xa0(3 months)\\nKaren ward, Nairobi County, Kenya\\nMentored learners in version control (Git/GitHub), Agile methodologies, and\\ncollaboration tools like Jira and Gerrit\\nEnhanced team productivity by fostering a culture of continuous learning and\\neffective remote collaboration\\nACAT(Africa Centre for Advanced Technology)  - Machakos\\nTechnical Institute For The Blind\\nSenior Instructor\\nJanuary 2023\\xa0-\\xa0March 2023\\xa0(3 months)\\nMachakos, Machakos County, Kenya\\nLed Android content development for higher education institutions in Kenya,\\nfocusing on Jetpack Compose and modern Android development practices\\nTrained technical trainers to deliver Android courses, increasing the training\\nphase\\ndelivery by 10%\\nSpearheaded the establishment of Google Developer Clubs in Kenyan\\ninstitutions,\\nfostering a culture of innovation and technical excellence\\nConducted Trainer of Trainers (TOT) programs to scale Android training\\ninitiatives\\nacross the region\\n\\xa0 Page 2 of 3\\xa0 \\xa0\\nEducation\\nAkiraChix\\nSoftware Development\\xa0·\\xa0(February 2021\\xa0-\\xa0November 2021)\\nGoogle Africa Developers Scholarship\\nMobile Web Development\\xa0·\\xa0(July 2021\\xa0-\\xa0September 2021)\\nMoringa School\\nSoftware Development\\xa0·\\xa0(June 2020\\xa0-\\xa0November 2020)\\n\\xa0 Page 3 of 3\\n\\nWith this context, please chat with the user, always staying in character as Juliet Gisemba.\""
      ]
     },
     "execution_count": 12,
     "metadata": {},
     "output_type": "execute_result"
    }
   ],
   "source": [
    "system_prompt"
   ]
  },
  {
   "cell_type": "code",
   "execution_count": 15,
   "metadata": {},
   "outputs": [],
   "source": [
    "GEMINI_BASE_URL = \"https://generativelanguage.googleapis.com/v1beta/openai/\"\n",
    "gemini_client = OpenAI(base_url=GEMINI_BASE_URL, api_key=os.getenv('GOOGLE_API_KEY'))"
   ]
  },
  {
   "cell_type": "code",
   "execution_count": 17,
   "metadata": {},
   "outputs": [],
   "source": [
    "def chat(message, history):\n",
    "    messages = [{\"role\": \"system\", \"content\": system_prompt}] + history + [{\"role\": \"user\", \"content\": message}]\n",
    "    response = gemini_client.chat.completions.create(model=\"gemini-2.0-flash\", messages=messages)\n",
    "    return response.choices[0].message.content"
   ]
  },
  {
   "cell_type": "markdown",
   "metadata": {},
   "source": [
    "## Special note for people not using OpenAI\n",
    "\n",
    "Some providers, like Groq, might give an error when you send your second message in the chat.\n",
    "\n",
    "This is because Gradio shoves some extra fields into the history object. OpenAI doesn't mind; but some other models complain.\n",
    "\n",
    "If this happens, the solution is to add this first line to the chat() function above. It cleans up the history variable:\n",
    "\n",
    "```python\n",
    "history = [{\"role\": h[\"role\"], \"content\": h[\"content\"]} for h in history]\n",
    "```\n",
    "\n",
    "You may need to add this in other chat() callback functions in the future, too."
   ]
  },
  {
   "cell_type": "code",
   "execution_count": 18,
   "metadata": {},
   "outputs": [
    {
     "name": "stdout",
     "output_type": "stream",
     "text": [
      "* Running on local URL:  http://127.0.0.1:7860\n",
      "* To create a public link, set `share=True` in `launch()`.\n"
     ]
    },
    {
     "data": {
      "text/html": [
       "<div><iframe src=\"http://127.0.0.1:7860/\" width=\"100%\" height=\"500\" allow=\"autoplay; camera; microphone; clipboard-read; clipboard-write;\" frameborder=\"0\" allowfullscreen></iframe></div>"
      ],
      "text/plain": [
       "<IPython.core.display.HTML object>"
      ]
     },
     "metadata": {},
     "output_type": "display_data"
    },
    {
     "data": {
      "text/plain": []
     },
     "execution_count": 18,
     "metadata": {},
     "output_type": "execute_result"
    },
    {
     "name": "stderr",
     "output_type": "stream",
     "text": [
      "Traceback (most recent call last):\n",
      "  File \"/Users/julietgisemba/Documents/Agentic_AI/agents/.venv/lib/python3.12/site-packages/httpx/_transports/default.py\", line 101, in map_httpcore_exceptions\n",
      "    yield\n",
      "  File \"/Users/julietgisemba/Documents/Agentic_AI/agents/.venv/lib/python3.12/site-packages/httpx/_transports/default.py\", line 250, in handle_request\n",
      "    resp = self._pool.handle_request(req)\n",
      "           ^^^^^^^^^^^^^^^^^^^^^^^^^^^^^^\n",
      "  File \"/Users/julietgisemba/Documents/Agentic_AI/agents/.venv/lib/python3.12/site-packages/httpcore/_sync/connection_pool.py\", line 256, in handle_request\n",
      "    raise exc from None\n",
      "  File \"/Users/julietgisemba/Documents/Agentic_AI/agents/.venv/lib/python3.12/site-packages/httpcore/_sync/connection_pool.py\", line 236, in handle_request\n",
      "    response = connection.handle_request(\n",
      "               ^^^^^^^^^^^^^^^^^^^^^^^^^^\n",
      "  File \"/Users/julietgisemba/Documents/Agentic_AI/agents/.venv/lib/python3.12/site-packages/httpcore/_sync/connection.py\", line 101, in handle_request\n",
      "    raise exc\n",
      "  File \"/Users/julietgisemba/Documents/Agentic_AI/agents/.venv/lib/python3.12/site-packages/httpcore/_sync/connection.py\", line 78, in handle_request\n",
      "    stream = self._connect(request)\n",
      "             ^^^^^^^^^^^^^^^^^^^^^^\n",
      "  File \"/Users/julietgisemba/Documents/Agentic_AI/agents/.venv/lib/python3.12/site-packages/httpcore/_sync/connection.py\", line 124, in _connect\n",
      "    stream = self._network_backend.connect_tcp(**kwargs)\n",
      "             ^^^^^^^^^^^^^^^^^^^^^^^^^^^^^^^^^^^^^^^^^^^\n",
      "  File \"/Users/julietgisemba/Documents/Agentic_AI/agents/.venv/lib/python3.12/site-packages/httpcore/_backends/sync.py\", line 207, in connect_tcp\n",
      "    with map_exceptions(exc_map):\n",
      "         ^^^^^^^^^^^^^^^^^^^^^^^\n",
      "  File \"/opt/homebrew/Cellar/python@3.12/3.12.8/Frameworks/Python.framework/Versions/3.12/lib/python3.12/contextlib.py\", line 158, in __exit__\n",
      "    self.gen.throw(value)\n",
      "  File \"/Users/julietgisemba/Documents/Agentic_AI/agents/.venv/lib/python3.12/site-packages/httpcore/_exceptions.py\", line 14, in map_exceptions\n",
      "    raise to_exc(exc) from exc\n",
      "httpcore.ConnectError: [Errno 8] nodename nor servname provided, or not known\n",
      "\n",
      "The above exception was the direct cause of the following exception:\n",
      "\n",
      "Traceback (most recent call last):\n",
      "  File \"/Users/julietgisemba/Documents/Agentic_AI/agents/.venv/lib/python3.12/site-packages/openai/_base_client.py\", line 972, in request\n",
      "    response = self._client.send(\n",
      "               ^^^^^^^^^^^^^^^^^^\n",
      "  File \"/Users/julietgisemba/Documents/Agentic_AI/agents/.venv/lib/python3.12/site-packages/httpx/_client.py\", line 914, in send\n",
      "    response = self._send_handling_auth(\n",
      "               ^^^^^^^^^^^^^^^^^^^^^^^^^\n",
      "  File \"/Users/julietgisemba/Documents/Agentic_AI/agents/.venv/lib/python3.12/site-packages/httpx/_client.py\", line 942, in _send_handling_auth\n",
      "    response = self._send_handling_redirects(\n",
      "               ^^^^^^^^^^^^^^^^^^^^^^^^^^^^^^\n",
      "  File \"/Users/julietgisemba/Documents/Agentic_AI/agents/.venv/lib/python3.12/site-packages/httpx/_client.py\", line 979, in _send_handling_redirects\n",
      "    response = self._send_single_request(request)\n",
      "               ^^^^^^^^^^^^^^^^^^^^^^^^^^^^^^^^^^\n",
      "  File \"/Users/julietgisemba/Documents/Agentic_AI/agents/.venv/lib/python3.12/site-packages/httpx/_client.py\", line 1014, in _send_single_request\n",
      "    response = transport.handle_request(request)\n",
      "               ^^^^^^^^^^^^^^^^^^^^^^^^^^^^^^^^^\n",
      "  File \"/Users/julietgisemba/Documents/Agentic_AI/agents/.venv/lib/python3.12/site-packages/httpx/_transports/default.py\", line 249, in handle_request\n",
      "    with map_httpcore_exceptions():\n",
      "         ^^^^^^^^^^^^^^^^^^^^^^^^^\n",
      "  File \"/opt/homebrew/Cellar/python@3.12/3.12.8/Frameworks/Python.framework/Versions/3.12/lib/python3.12/contextlib.py\", line 158, in __exit__\n",
      "    self.gen.throw(value)\n",
      "  File \"/Users/julietgisemba/Documents/Agentic_AI/agents/.venv/lib/python3.12/site-packages/httpx/_transports/default.py\", line 118, in map_httpcore_exceptions\n",
      "    raise mapped_exc(message) from exc\n",
      "httpx.ConnectError: [Errno 8] nodename nor servname provided, or not known\n",
      "\n",
      "The above exception was the direct cause of the following exception:\n",
      "\n",
      "Traceback (most recent call last):\n",
      "  File \"/Users/julietgisemba/Documents/Agentic_AI/agents/.venv/lib/python3.12/site-packages/gradio/queueing.py\", line 625, in process_events\n",
      "    response = await route_utils.call_process_api(\n",
      "               ^^^^^^^^^^^^^^^^^^^^^^^^^^^^^^^^^^^\n",
      "  File \"/Users/julietgisemba/Documents/Agentic_AI/agents/.venv/lib/python3.12/site-packages/gradio/route_utils.py\", line 322, in call_process_api\n",
      "    output = await app.get_blocks().process_api(\n",
      "             ^^^^^^^^^^^^^^^^^^^^^^^^^^^^^^^^^^^\n",
      "  File \"/Users/julietgisemba/Documents/Agentic_AI/agents/.venv/lib/python3.12/site-packages/gradio/blocks.py\", line 2220, in process_api\n",
      "    result = await self.call_function(\n",
      "             ^^^^^^^^^^^^^^^^^^^^^^^^^\n",
      "  File \"/Users/julietgisemba/Documents/Agentic_AI/agents/.venv/lib/python3.12/site-packages/gradio/blocks.py\", line 1729, in call_function\n",
      "    prediction = await fn(*processed_input)\n",
      "                 ^^^^^^^^^^^^^^^^^^^^^^^^^^\n",
      "  File \"/Users/julietgisemba/Documents/Agentic_AI/agents/.venv/lib/python3.12/site-packages/gradio/utils.py\", line 871, in async_wrapper\n",
      "    response = await f(*args, **kwargs)\n",
      "               ^^^^^^^^^^^^^^^^^^^^^^^^\n",
      "  File \"/Users/julietgisemba/Documents/Agentic_AI/agents/.venv/lib/python3.12/site-packages/gradio/chat_interface.py\", line 545, in __wrapper\n",
      "    return await submit_fn(*args, **kwargs)\n",
      "           ^^^^^^^^^^^^^^^^^^^^^^^^^^^^^^^^\n",
      "  File \"/Users/julietgisemba/Documents/Agentic_AI/agents/.venv/lib/python3.12/site-packages/gradio/chat_interface.py\", line 917, in _submit_fn\n",
      "    response = await anyio.to_thread.run_sync(\n",
      "               ^^^^^^^^^^^^^^^^^^^^^^^^^^^^^^^\n",
      "  File \"/Users/julietgisemba/Documents/Agentic_AI/agents/.venv/lib/python3.12/site-packages/anyio/to_thread.py\", line 56, in run_sync\n",
      "    return await get_async_backend().run_sync_in_worker_thread(\n",
      "           ^^^^^^^^^^^^^^^^^^^^^^^^^^^^^^^^^^^^^^^^^^^^^^^^^^^^\n",
      "  File \"/Users/julietgisemba/Documents/Agentic_AI/agents/.venv/lib/python3.12/site-packages/anyio/_backends/_asyncio.py\", line 2470, in run_sync_in_worker_thread\n",
      "    return await future\n",
      "           ^^^^^^^^^^^^\n",
      "  File \"/Users/julietgisemba/Documents/Agentic_AI/agents/.venv/lib/python3.12/site-packages/anyio/_backends/_asyncio.py\", line 967, in run\n",
      "    result = context.run(func, *args)\n",
      "             ^^^^^^^^^^^^^^^^^^^^^^^^\n",
      "  File \"/var/folders/fd/hcyrnbt93h98265v1lgkb0bm0000gn/T/ipykernel_30662/2823850134.py\", line 3, in chat\n",
      "    response = gemini_client.chat.completions.create(model=\"gemini-2.0-flash\", messages=messages)\n",
      "               ^^^^^^^^^^^^^^^^^^^^^^^^^^^^^^^^^^^^^^^^^^^^^^^^^^^^^^^^^^^^^^^^^^^^^^^^^^^^^^^^^^\n",
      "  File \"/Users/julietgisemba/Documents/Agentic_AI/agents/.venv/lib/python3.12/site-packages/openai/_utils/_utils.py\", line 287, in wrapper\n",
      "    return func(*args, **kwargs)\n",
      "           ^^^^^^^^^^^^^^^^^^^^^\n",
      "  File \"/Users/julietgisemba/Documents/Agentic_AI/agents/.venv/lib/python3.12/site-packages/openai/resources/chat/completions/completions.py\", line 925, in create\n",
      "    return self._post(\n",
      "           ^^^^^^^^^^^\n",
      "  File \"/Users/julietgisemba/Documents/Agentic_AI/agents/.venv/lib/python3.12/site-packages/openai/_base_client.py\", line 1249, in post\n",
      "    return cast(ResponseT, self.request(cast_to, opts, stream=stream, stream_cls=stream_cls))\n",
      "                           ^^^^^^^^^^^^^^^^^^^^^^^^^^^^^^^^^^^^^^^^^^^^^^^^^^^^^^^^^^^^^^^^^\n",
      "  File \"/Users/julietgisemba/Documents/Agentic_AI/agents/.venv/lib/python3.12/site-packages/openai/_base_client.py\", line 1004, in request\n",
      "    raise APIConnectionError(request=request) from err\n",
      "openai.APIConnectionError: Connection error.\n"
     ]
    }
   ],
   "source": [
    "gr.ChatInterface(chat, type=\"messages\").launch()"
   ]
  },
  {
   "cell_type": "markdown",
   "metadata": {},
   "source": [
    "## A lot is about to happen...\n",
    "\n",
    "1. Be able to ask an LLM to evaluate an answer\n",
    "2. Be able to rerun if the answer fails evaluation\n",
    "3. Put this together into 1 workflow\n",
    "\n",
    "All without any Agentic framework!"
   ]
  },
  {
   "cell_type": "code",
   "execution_count": 19,
   "metadata": {},
   "outputs": [],
   "source": [
    "# Create a Pydantic model for the Evaluation\n",
    "\n",
    "from pydantic import BaseModel\n",
    "\n",
    "class Evaluation(BaseModel):\n",
    "    is_acceptable: bool\n",
    "    feedback: str\n"
   ]
  },
  {
   "cell_type": "code",
   "execution_count": 23,
   "metadata": {},
   "outputs": [],
   "source": [
    "evaluator_system_prompt = f\"You are an evaluator that decides whether a response to a question is acceptable. \\\n",
    "You are provided with a conversation between a User and an Agent. Your task is to decide whether the Agent's latest response is acceptable quality. \\\n",
    "The Agent is playing the role of {name} and is representing {name} on their website. \\\n",
    "The Agent has been instructed to be professional and engaging, as if talking to a potential client or future employer who came across the website. \\\n",
    "The Agent has been provided with context on {name} in the form of their summary and LinkedIn details. Here's the information:\"\n",
    "\n",
    "evaluator_system_prompt += f\"\\n\\n## Summary:\\n{summary}\\n\\n## LinkedIn Profile:\\n{linkedin}\\n\\n\"\n",
    "evaluator_system_prompt += f\"With this context, please evaluate the latest response, replying with whether the response is acceptable and your feedback.\""
   ]
  },
  {
   "cell_type": "code",
   "execution_count": 24,
   "metadata": {},
   "outputs": [],
   "source": [
    "def evaluator_user_prompt(reply, message, history):\n",
    "    user_prompt = f\"Here's the conversation between the User and the Agent: \\n\\n{history}\\n\\n\"\n",
    "    user_prompt += f\"Here's the latest message from the User: \\n\\n{message}\\n\\n\"\n",
    "    user_prompt += f\"Here's the latest response from the Agent: \\n\\n{reply}\\n\\n\"\n",
    "    user_prompt += \"Please evaluate the response, replying with whether it is acceptable and your feedback.\"\n",
    "    return user_prompt"
   ]
  },
  {
   "cell_type": "code",
   "execution_count": 25,
   "metadata": {},
   "outputs": [],
   "source": [
    "import os\n",
    "gemini = OpenAI(\n",
    "    api_key=os.getenv(\"GOOGLE_API_KEY\"), \n",
    "    base_url=\"https://generativelanguage.googleapis.com/v1beta/openai/\"\n",
    ")"
   ]
  },
  {
   "cell_type": "code",
   "execution_count": 26,
   "metadata": {},
   "outputs": [],
   "source": [
    "def evaluate(reply, message, history) -> Evaluation:\n",
    "\n",
    "    messages = [{\"role\": \"system\", \"content\": evaluator_system_prompt}] + [{\"role\": \"user\", \"content\": evaluator_user_prompt(reply, message, history)}]\n",
    "    response = gemini.beta.chat.completions.parse(model=\"gemini-2.0-flash\", messages=messages, response_format=Evaluation)\n",
    "    return response.choices[0].message.parsed"
   ]
  },
  {
   "cell_type": "code",
   "execution_count": 20,
   "metadata": {},
   "outputs": [
    {
     "ename": "NameError",
     "evalue": "name 'openai' is not defined",
     "output_type": "error",
     "traceback": [
      "\u001b[31m---------------------------------------------------------------------------\u001b[39m",
      "\u001b[31mNameError\u001b[39m                                 Traceback (most recent call last)",
      "\u001b[36mCell\u001b[39m\u001b[36m \u001b[39m\u001b[32mIn[20]\u001b[39m\u001b[32m, line 2\u001b[39m\n\u001b[32m      1\u001b[39m messages = [{\u001b[33m\"\u001b[39m\u001b[33mrole\u001b[39m\u001b[33m\"\u001b[39m: \u001b[33m\"\u001b[39m\u001b[33msystem\u001b[39m\u001b[33m\"\u001b[39m, \u001b[33m\"\u001b[39m\u001b[33mcontent\u001b[39m\u001b[33m\"\u001b[39m: system_prompt}] + [{\u001b[33m\"\u001b[39m\u001b[33mrole\u001b[39m\u001b[33m\"\u001b[39m: \u001b[33m\"\u001b[39m\u001b[33muser\u001b[39m\u001b[33m\"\u001b[39m, \u001b[33m\"\u001b[39m\u001b[33mcontent\u001b[39m\u001b[33m\"\u001b[39m: \u001b[33m\"\u001b[39m\u001b[33mdo you hold a patent?\u001b[39m\u001b[33m\"\u001b[39m}]\n\u001b[32m----> \u001b[39m\u001b[32m2\u001b[39m response = \u001b[43mopenai\u001b[49m.chat.completions.create(model=\u001b[33m\"\u001b[39m\u001b[33mgpt-4o-mini\u001b[39m\u001b[33m\"\u001b[39m, messages=messages)\n\u001b[32m      3\u001b[39m reply = response.choices[\u001b[32m0\u001b[39m].message.content\n",
      "\u001b[31mNameError\u001b[39m: name 'openai' is not defined"
     ]
    }
   ],
   "source": [
    "messages = [{\"role\": \"system\", \"content\": system_prompt}] + [{\"role\": \"user\", \"content\": \"do you hold a patent?\"}]\n",
    "response = openai.chat.completions.create(model=\"gpt-4o-mini\", messages=messages)\n",
    "reply = response.choices[0].message.content"
   ]
  },
  {
   "cell_type": "code",
   "execution_count": null,
   "metadata": {},
   "outputs": [],
   "source": [
    "reply"
   ]
  },
  {
   "cell_type": "code",
   "execution_count": null,
   "metadata": {},
   "outputs": [],
   "source": [
    "evaluate(reply, \"do you hold a patent?\", messages[:1])"
   ]
  },
  {
   "cell_type": "code",
   "execution_count": 30,
   "metadata": {},
   "outputs": [],
   "source": [
    "def rerun(reply, message, history, feedback):\n",
    "    updated_system_prompt = system_prompt + \"\\n\\n## Previous answer rejected\\nYou just tried to reply, but the quality control rejected your reply\\n\"\n",
    "    updated_system_prompt += f\"## Your attempted answer:\\n{reply}\\n\\n\"\n",
    "    updated_system_prompt += f\"## Reason for rejection:\\n{feedback}\\n\\n\"\n",
    "    messages = [{\"role\": \"system\", \"content\": updated_system_prompt}] + history + [{\"role\": \"user\", \"content\": message}]\n",
    "    response = openai.chat.completions.create(model=\"gpt-4o-mini\", messages=messages)\n",
    "    return response.choices[0].message.content"
   ]
  },
  {
   "cell_type": "code",
   "execution_count": 35,
   "metadata": {},
   "outputs": [],
   "source": [
    "def chat(message, history):\n",
    "    if \"patent\" in message:\n",
    "        system = system_prompt + \"\\n\\nEverything in your reply needs to be in pig latin - \\\n",
    "              it is mandatory that you respond only and entirely in pig latin\"\n",
    "    else:\n",
    "        system = system_prompt\n",
    "    messages = [{\"role\": \"system\", \"content\": system}] + history + [{\"role\": \"user\", \"content\": message}]\n",
    "    response = openai.chat.completions.create(model=\"gpt-4o-mini\", messages=messages)\n",
    "    reply =response.choices[0].message.content\n",
    "\n",
    "    evaluation = evaluate(reply, message, history)\n",
    "    \n",
    "    if evaluation.is_acceptable:\n",
    "        print(\"Passed evaluation - returning reply\")\n",
    "    else:\n",
    "        print(\"Failed evaluation - retrying\")\n",
    "        print(evaluation.feedback)\n",
    "        reply = rerun(reply, message, history, evaluation.feedback)       \n",
    "    return reply"
   ]
  },
  {
   "cell_type": "code",
   "execution_count": null,
   "metadata": {},
   "outputs": [],
   "source": [
    "gr.ChatInterface(chat, type=\"messages\").launch()"
   ]
  },
  {
   "cell_type": "markdown",
   "metadata": {},
   "source": []
  },
  {
   "cell_type": "code",
   "execution_count": null,
   "metadata": {},
   "outputs": [],
   "source": []
  }
 ],
 "metadata": {
  "kernelspec": {
   "display_name": ".venv",
   "language": "python",
   "name": "python3"
  },
  "language_info": {
   "codemirror_mode": {
    "name": "ipython",
    "version": 3
   },
   "file_extension": ".py",
   "mimetype": "text/x-python",
   "name": "python",
   "nbconvert_exporter": "python",
   "pygments_lexer": "ipython3",
   "version": "3.12.8"
  }
 },
 "nbformat": 4,
 "nbformat_minor": 2
}
