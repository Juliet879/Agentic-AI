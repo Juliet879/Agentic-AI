{
 "cells": [
  {
   "cell_type": "markdown",
   "metadata": {},
   "source": [
    "# Welcome to the start of your adventure in Agentic AI"
   ]
  },
  {
   "cell_type": "markdown",
   "metadata": {},
   "source": [
    "<table style=\"margin: 0; text-align: left; width:100%\">\n",
    "    <tr>\n",
    "        <td style=\"width: 150px; height: 150px; vertical-align: middle;\">\n",
    "            <img src=\"../assets/stop.png\" width=\"150\" height=\"150\" style=\"display: block;\" />\n",
    "        </td>\n",
    "        <td>\n",
    "            <h2 style=\"color:#ff7800;\">Are you ready for action??</h2>\n",
    "            <span style=\"color:#ff7800;\">Have you completed all the setup steps in the <a href=\"../setup/\">setup</a> folder?<br/>\n",
    "            Have you read the <a href=\"../README.md\">README</a>? Many common questions are answered here!<br/>\n",
    "            Have you checked out the guides in the <a href=\"../guides/01_intro.ipynb\">guides</a> folder?<br/>\n",
    "            Well in that case, you're ready!!\n",
    "            </span>\n",
    "        </td>\n",
    "    </tr>\n",
    "</table>"
   ]
  },
  {
   "cell_type": "markdown",
   "metadata": {},
   "source": [
    "<table style=\"margin: 0; text-align: left; width:100%\">\n",
    "    <tr>\n",
    "        <td style=\"width: 150px; height: 150px; vertical-align: middle;\">\n",
    "            <img src=\"../assets/tools.png\" width=\"150\" height=\"150\" style=\"display: block;\" />\n",
    "        </td>\n",
    "        <td>\n",
    "            <h2 style=\"color:#00bfff;\">This code is a live resource - keep an eye out for my updates</h2>\n",
    "            <span style=\"color:#00bfff;\">I push updates regularly. As people ask questions or have problems, I add more examples and improve explanations. As a result, the code below might not be identical to the videos, as I've added more steps and better comments. Consider this like an interactive book that accompanies the lectures.<br/><br/>\n",
    "            I try to send emails regularly with important updates related to the course. You can find this in the 'Announcements' section of Udemy in the left sidebar. You can also choose to receive my emails via your Notification Settings in Udemy. I'm respectful of your inbox and always try to add value with my emails!\n",
    "            </span>\n",
    "        </td>\n",
    "    </tr>\n",
    "</table>"
   ]
  },
  {
   "cell_type": "markdown",
   "metadata": {},
   "source": [
    "### And please do remember to contact me if I can help\n",
    "\n",
    "And I love to connect: https://www.linkedin.com/in/eddonner/\n",
    "\n",
    "\n",
    "### New to Notebooks like this one? Head over to the guides folder!\n",
    "\n",
    "Just to check you've already added the Python and Jupyter extensions to Cursor, if not already installed:\n",
    "- Open extensions (View >> extensions)\n",
    "- Search for python, and when the results show, click on the ms-python one, and Install it if not already installed\n",
    "- Search for jupyter, and when the results show, click on the Microsoft one, and Install it if not already installed  \n",
    "Then View >> Explorer to bring back the File Explorer.\n",
    "\n",
    "And then:\n",
    "1. Click where it says \"Select Kernel\" near the top right, and select the option called `.venv (Python 3.12.9)` or similar, which should be the first choice or the most prominent choice. You may need to choose \"Python Environments\" first.\n",
    "2. Click in each \"cell\" below, starting with the cell immediately below this text, and press Shift+Enter to run\n",
    "3. Enjoy!\n",
    "\n",
    "After you click \"Select Kernel\", if there is no option like `.venv (Python 3.12.9)` then please do the following:  \n",
    "1. On Mac: From the Cursor menu, choose Settings >> VS Code Settings (NOTE: be sure to select `VSCode Settings` not `Cursor Settings`);  \n",
    "On Windows PC: From the File menu, choose Preferences >> VS Code Settings(NOTE: be sure to select `VSCode Settings` not `Cursor Settings`)  \n",
    "2. In the Settings search bar, type \"venv\"  \n",
    "3. In the field \"Path to folder with a list of Virtual Environments\" put the path to the project root, like C:\\Users\\username\\projects\\agents (on a Windows PC) or /Users/username/projects/agents (on Mac or Linux).  \n",
    "And then try again.\n",
    "\n",
    "Having problems with missing Python versions in that list? Have you ever used Anaconda before? It might be interferring. Quit Cursor, bring up a new command line, and make sure that your Anaconda environment is deactivated:    \n",
    "`conda deactivate`  \n",
    "And if you still have any problems with conda and python versions, it's possible that you will need to run this too:  \n",
    "`conda config --set auto_activate_base false`  \n",
    "and then from within the Agents directory, you should be able to run `uv python list` and see the Python 3.12 version."
   ]
  },
  {
   "cell_type": "code",
   "execution_count": 1,
   "metadata": {},
   "outputs": [],
   "source": [
    "# First let's do an import. If you get an Import Error, double check that your Kernel is correct..\n",
    "\n",
    "from dotenv import load_dotenv"
   ]
  },
  {
   "cell_type": "code",
   "execution_count": 2,
   "metadata": {},
   "outputs": [
    {
     "data": {
      "text/plain": [
       "True"
      ]
     },
     "execution_count": 2,
     "metadata": {},
     "output_type": "execute_result"
    }
   ],
   "source": [
    "# Next it's time to load the API keys into environment variables\n",
    "# If this returns false, see the next cell!\n",
    "\n",
    "load_dotenv(override=True)"
   ]
  },
  {
   "cell_type": "markdown",
   "metadata": {},
   "source": [
    "### Wait, did that just output `False`??\n",
    "\n",
    "If so, the most common reason is that you didn't save your `.env` file after adding the key! Be sure to have saved.\n",
    "\n",
    "Also, make sure the `.env` file is named precisely `.env` and is in the project root directory (`agents`)\n",
    "\n",
    "By the way, your `.env` file should have a stop symbol next to it in Cursor on the left, and that's actually a good thing: that's Cursor saying to you, \"hey, I realize this is a file filled with secret information, and I'm not going to send it to an external AI to suggest changes, because your keys should not be shown to anyone else.\""
   ]
  },
  {
   "cell_type": "markdown",
   "metadata": {},
   "source": [
    "<table style=\"margin: 0; text-align: left; width:100%\">\n",
    "    <tr>\n",
    "        <td style=\"width: 150px; height: 150px; vertical-align: middle;\">\n",
    "            <img src=\"../assets/stop.png\" width=\"150\" height=\"150\" style=\"display: block;\" />\n",
    "        </td>\n",
    "        <td>\n",
    "            <h2 style=\"color:#ff7800;\">Final reminders</h2>\n",
    "            <span style=\"color:#ff7800;\">1. If you're not confident about Environment Variables or Web Endpoints / APIs, please read Topics 3 and 5 in this <a href=\"../guides/04_technical_foundations.ipynb\">technical foundations guide</a>.<br/>\n",
    "            2. If you want to use AIs other than OpenAI, like Gemini, DeepSeek or Ollama (free), please see the first section in this <a href=\"../guides/09_ai_apis_and_ollama.ipynb\">AI APIs guide</a>.<br/>\n",
    "            3. If you ever get a Name Error in Python, you can always fix it immediately; see the last section of this <a href=\"../guides/06_python_foundations.ipynb\">Python Foundations guide</a> and follow both tutorials and exercises.<br/>\n",
    "            </span>\n",
    "        </td>\n",
    "    </tr>\n",
    "</table>"
   ]
  },
  {
   "cell_type": "code",
   "execution_count": 3,
   "metadata": {},
   "outputs": [
    {
     "name": "stdout",
     "output_type": "stream",
     "text": [
      "OpenAI API Key exists and begins sk-proj-\n"
     ]
    }
   ],
   "source": [
    "# Check the key - if you're not using OpenAI, check whichever key you're using! Ollama doesn't need a key.\n",
    "\n",
    "import os\n",
    "openai_api_key = os.getenv('OPENAI_API_KEY')\n",
    "\n",
    "if openai_api_key:\n",
    "    print(f\"OpenAI API Key exists and begins {openai_api_key[:8]}\")\n",
    "else:\n",
    "    print(\"OpenAI API Key not set - please head to the troubleshooting guide in the setup folder\")\n",
    "    \n"
   ]
  },
  {
   "cell_type": "code",
   "execution_count": 4,
   "metadata": {},
   "outputs": [],
   "source": [
    "# And now - the all important import statement\n",
    "# If you get an import error - head over to troubleshooting in the Setup folder\n",
    "# Even for other LLM providers like Gemini, you still use this OpenAI import - see Guide 9 for why\n",
    "\n",
    "from openai import OpenAI"
   ]
  },
  {
   "cell_type": "code",
   "execution_count": 5,
   "metadata": {},
   "outputs": [],
   "source": [
    "# And now we'll create an instance of the OpenAI class\n",
    "# If you're not sure what it means to create an instance of a class - head over to the guides folder (guide 6)!\n",
    "# If you get a NameError - head over to the guides folder (guide 6)to learn about NameErrors - always instantly fixable\n",
    "# If you're not using OpenAI, you just need to slightly modify this - precise instructions are in the AI APIs guide (guide 9)\n",
    "\n",
    "openai = OpenAI()"
   ]
  },
  {
   "cell_type": "code",
   "execution_count": 7,
   "metadata": {},
   "outputs": [],
   "source": [
    "# Create a list of messages in the familiar OpenAI format\n",
    "\n",
    "messages = [{\"role\": \"user\", \"content\": \"What is 2+2?\"}]"
   ]
  },
  {
   "cell_type": "code",
   "execution_count": 8,
   "metadata": {},
   "outputs": [
    {
     "name": "stdout",
     "output_type": "stream",
     "text": [
      "2 + 2 equals 4.\n"
     ]
    }
   ],
   "source": [
    "# And now call it! Any problems, head to the troubleshooting guide\n",
    "# This uses GPT 4.1 nano, the incredibly cheap model\n",
    "# The APIs guide (guide 9) has exact instructions for using even cheaper or free alternatives to OpenAI\n",
    "# If you get a NameError, head to the guides folder (guide 6) to learn about NameErrors - always instantly fixable\n",
    "\n",
    "response = openai.chat.completions.create(\n",
    "    model=\"gpt-4.1-nano\",\n",
    "    messages=messages\n",
    ")\n",
    "\n",
    "print(response.choices[0].message.content)\n"
   ]
  },
  {
   "cell_type": "code",
   "execution_count": 10,
   "metadata": {},
   "outputs": [],
   "source": [
    "# And now - let's ask for a question:\n",
    "\n",
    "question = \"Please propose a hard, challenging question to assess someone's IQ. Respond only with the question.\"\n",
    "messages = [{\"role\": \"user\", \"content\": question}]\n"
   ]
  },
  {
   "cell_type": "code",
   "execution_count": 11,
   "metadata": {},
   "outputs": [
    {
     "name": "stdout",
     "output_type": "stream",
     "text": [
      "If you have eight identical-looking balls, one of which is slightly heavier, and a balance scale that can be used only twice, how can you determine which ball is the heavier one?\n"
     ]
    }
   ],
   "source": [
    "# ask it - this uses GPT 4.1 mini, still cheap but more powerful than nano\n",
    "\n",
    "response = openai.chat.completions.create(\n",
    "    model=\"gpt-4.1-mini\",\n",
    "    messages=messages\n",
    ")\n",
    "\n",
    "question = response.choices[0].message.content\n",
    "\n",
    "print(question)\n"
   ]
  },
  {
   "cell_type": "code",
   "execution_count": 12,
   "metadata": {},
   "outputs": [],
   "source": [
    "# form a new messages list\n",
    "messages = [{\"role\": \"user\", \"content\": question}]\n"
   ]
  },
  {
   "cell_type": "code",
   "execution_count": 13,
   "metadata": {},
   "outputs": [
    {
     "name": "stdout",
     "output_type": "stream",
     "text": [
      "You have **8 identical-looking balls**, one is **slightly heavier**, and you have a **balance scale** that can be used **only twice**. The goal is to find the heavier ball.\n",
      "\n",
      "---\n",
      "\n",
      "### Step-by-step solution:\n",
      "\n",
      "1. **Divide the 8 balls into 3 groups:**\n",
      "   - Group A: 3 balls\n",
      "   - Group B: 3 balls\n",
      "   - Group C: 2 balls\n",
      "\n",
      "2. **First weighing: Compare Group A vs Group B**\n",
      "   - **If they balance:**  \n",
      "     The heavier ball is in Group C (the 2 remaining balls).\n",
      "   - **If one side is heavier:**  \n",
      "     The heavier ball is in the heavier side group (either Group A or Group B).\n",
      "\n",
      "3. **Second weighing:**\n",
      "   - **If Group C is the suspected group (2 balls):**  \n",
      "     Weigh one ball against the other. The heavier side reveals the heavier ball.\n",
      "   \n",
      "   - **If Group A or Group B is the suspected group (3 balls):**  \n",
      "     Take any 2 balls from the suspected 3 and weigh them against each other.\n",
      "     - If one side is heavier, that’s the heavier ball.\n",
      "     - If they balance, the third, unweighed ball is the heavier one.\n",
      "\n",
      "---\n",
      "\n",
      "### Summary:\n",
      "- First weigh: 3 vs 3 balls.\n",
      "- Narrow down the heavier ball to a group of 3 or 2.\n",
      "- Second weigh: 2 vs 2 (or 1 vs 1 for the last two balls).\n",
      "- Identify the heavier ball within two weighings.\n",
      "\n",
      "---\n",
      "\n",
      "This method guarantees to find the heavier ball using only **two weighings** on the balance scale.\n"
     ]
    }
   ],
   "source": [
    "# Ask it again\n",
    "\n",
    "response = openai.chat.completions.create(\n",
    "    model=\"gpt-4.1-mini\",\n",
    "    messages=messages\n",
    ")\n",
    "\n",
    "answer = response.choices[0].message.content\n",
    "print(answer)\n"
   ]
  },
  {
   "cell_type": "code",
   "execution_count": 14,
   "metadata": {},
   "outputs": [
    {
     "data": {
      "text/markdown": [
       "You have **8 identical-looking balls**, one is **slightly heavier**, and you have a **balance scale** that can be used **only twice**. The goal is to find the heavier ball.\n",
       "\n",
       "---\n",
       "\n",
       "### Step-by-step solution:\n",
       "\n",
       "1. **Divide the 8 balls into 3 groups:**\n",
       "   - Group A: 3 balls\n",
       "   - Group B: 3 balls\n",
       "   - Group C: 2 balls\n",
       "\n",
       "2. **First weighing: Compare Group A vs Group B**\n",
       "   - **If they balance:**  \n",
       "     The heavier ball is in Group C (the 2 remaining balls).\n",
       "   - **If one side is heavier:**  \n",
       "     The heavier ball is in the heavier side group (either Group A or Group B).\n",
       "\n",
       "3. **Second weighing:**\n",
       "   - **If Group C is the suspected group (2 balls):**  \n",
       "     Weigh one ball against the other. The heavier side reveals the heavier ball.\n",
       "   \n",
       "   - **If Group A or Group B is the suspected group (3 balls):**  \n",
       "     Take any 2 balls from the suspected 3 and weigh them against each other.\n",
       "     - If one side is heavier, that’s the heavier ball.\n",
       "     - If they balance, the third, unweighed ball is the heavier one.\n",
       "\n",
       "---\n",
       "\n",
       "### Summary:\n",
       "- First weigh: 3 vs 3 balls.\n",
       "- Narrow down the heavier ball to a group of 3 or 2.\n",
       "- Second weigh: 2 vs 2 (or 1 vs 1 for the last two balls).\n",
       "- Identify the heavier ball within two weighings.\n",
       "\n",
       "---\n",
       "\n",
       "This method guarantees to find the heavier ball using only **two weighings** on the balance scale."
      ],
      "text/plain": [
       "<IPython.core.display.Markdown object>"
      ]
     },
     "metadata": {},
     "output_type": "display_data"
    }
   ],
   "source": [
    "from IPython.display import Markdown, display\n",
    "\n",
    "display(Markdown(answer))\n",
    "\n"
   ]
  },
  {
   "cell_type": "markdown",
   "metadata": {},
   "source": [
    "# Congratulations!\n",
    "\n",
    "That was a small, simple step in the direction of Agentic AI, with your new environment!\n",
    "\n",
    "Next time things get more interesting..."
   ]
  },
  {
   "cell_type": "markdown",
   "metadata": {},
   "source": [
    "<table style=\"margin: 0; text-align: left; width:100%\">\n",
    "    <tr>\n",
    "        <td style=\"width: 150px; height: 150px; vertical-align: middle;\">\n",
    "            <img src=\"../assets/exercise.png\" width=\"150\" height=\"150\" style=\"display: block;\" />\n",
    "        </td>\n",
    "        <td>\n",
    "            <h2 style=\"color:#ff7800;\">Exercise</h2>\n",
    "            <span style=\"color:#ff7800;\">Now try this commercial application:<br/>\n",
    "            First ask the LLM to pick a business area that might be worth exploring for an Agentic AI opportunity.<br/>\n",
    "            Then ask the LLM to present a pain-point in that industry - something challenging that might be ripe for an Agentic solution.<br/>\n",
    "            Finally have 3 third LLM call propose the Agentic AI solution. <br/>\n",
    "            We will cover this at up-coming labs, so don't worry if you're unsure.. just give it a try!\n",
    "            </span>\n",
    "        </td>\n",
    "    </tr>\n",
    "</table>"
   ]
  },
  {
   "cell_type": "code",
   "execution_count": 26,
   "metadata": {},
   "outputs": [
    {
     "data": {
      "text/markdown": [
       "무선전력전송(WPT) 분야에서 에이전트형 AI 기회를 탐색할 만한 유망한 비즈니스 영역으로는 **스마트 에너지 관리 및 최적화 시스템**을 추천드립니다.\n",
       "\n",
       "구체적으로, 에이전트형 AI는 무선전력전송 환경에서 전력 효율성을 극대화하고, 다양한 디바이스 및 인프라 간의 전력 분배와 충전 우선순위를 실시간으로 조절할 수 있습니다. 예를 들어, AI가 여러 무선 충전 존(zone) 내의 전력 수요와 공급 상태를 분석하여, 효율적이고 안정적인 전력 분배 계획을 수립하고 자동으로 실행하는 방식입니다.\n",
       "\n",
       "이 비즈니스 영역은:\n",
       "\n",
       "- 스마트 홈, 스마트 빌딩, 스마트 공장 등 다양한 IoT 환경에서 WPT 솔루션과 결합 가능\n",
       "- 에너지 절감 및 사용자 경험 개선 효과\n",
       "- 복잡한 무선전력 네트워크 관리의 자동화와 최적화 실현\n",
       "\n",
       "따라서, 에이전트형 AI 기술을 접목한 스마트한 무선전력 관리 시스템은 WPT 산업의 성장과 함께 새로운 가치 창출이 기대되는 영역이라고 할 수 있습니다."
      ],
      "text/plain": [
       "<IPython.core.display.Markdown object>"
      ]
     },
     "metadata": {},
     "output_type": "display_data"
    }
   ],
   "source": [
    "# First create the messages:\n",
    "\n",
    "messages = [{\"role\": \"user\", \"content\": \"Pick a business area in WPT (Wireless power transmission) field that might worth exploring for an Agentic AI opportunity. Please answer in Korean.\"}]\n",
    "\n",
    "# Then make the first call:\n",
    "\n",
    "response = openai.chat.completions.create(\n",
    "    model=\"gpt-4.1-mini\",\n",
    "    messages=messages\n",
    ")\n",
    "\n",
    "# Then read the business idea:\n",
    "\n",
    "business_idea = response.choices[0].message.content\n",
    "\n",
    "display(Markdown(business_idea))\n",
    "\n"
   ]
  },
  {
   "cell_type": "code",
   "execution_count": 27,
   "metadata": {},
   "outputs": [
    {
     "data": {
      "text/markdown": [
       "무선전력전송(WPT) 분야의 스마트 에너지 관리 및 최적화 시스템에서 탐색할 만한 주요 페인 포인트(pain-point)로는 다음을 제안드립니다:\n",
       "\n",
       "### 무선전력 분배의 **불균형 및 비효율성 문제**\n",
       "\n",
       "- **문제 설명**: 다양한 디바이스가 동시에 무선전력을 요구하는 환경에서는 전력 수요가 시간과 공간에 따라 급격히 변동합니다. 현재는 단순 고정 분배 방식이나 수동 제어에 의존하는 경우가 많아, 특정 존(zone) 또는 디바이스에 전력이 과도하게 집중되거나 부족해지는 현상이 발생할 수 있습니다. 이로 인해 전력 손실이 커지고, 일부 디바이스는 충전 지연 또는 불안정한 전력 공급으로 성능 저하를 경험하게 됩니다.\n",
       "\n",
       "- **비즈니스적 영향**:  \n",
       "  - 에너지 낭비 및 운영 비용 증가  \n",
       "  - 사용자 경험 저하(충전 지연, 디바이스 과열 등)  \n",
       "  - WPT 네트워크 신뢰성 및 확장성 저하\n",
       "\n",
       "- **에이전트형 AI의 기회**:  \n",
       "  AI가 실시간으로 각 디바이스와 존의 전력 수요를 분석하고, 전력 공급을 동적으로 재조정하여 불균형 문제를 해결할 수 있습니다. 또한, 우선순위 기반 충전 전략을 통해 중요한 디바이스에 안정적 전력 공급을 보장하며, 전체 시스템의 에너지 효율성을 극대화할 수 있습니다.\n",
       "\n",
       "---\n",
       "\n",
       "따라서, 무선전력전송 네트워크 내 전력 분배의 불균형 및 비효율성 문제는 스마트 에너지 관리 시스템 개발 시 반드시 해결해야 하는 핵심 페인포인트이며, 에이전트형 AI 적용의 높은 가치와 시장 기회가 존재하는 영역입니다."
      ],
      "text/plain": [
       "<IPython.core.display.Markdown object>"
      ]
     },
     "metadata": {},
     "output_type": "display_data"
    }
   ],
   "source": [
    "# ask the LLM to propose a pain-point in the given industry\n",
    "\n",
    "messages = [{\"role\": \"user\", \"content\": f\"Please propose a pain-point in the given industry: {business_idea}\"}]\n",
    "\n",
    "response = openai.chat.completions.create(\n",
    "    model=\"gpt-4.1-mini\",\n",
    "    messages=messages)\n",
    "\n",
    "pain_point = response.choices[0].message.content\n",
    "\n",
    "display(Markdown(pain_point))\n",
    "\n"
   ]
  },
  {
   "cell_type": "code",
   "execution_count": 28,
   "metadata": {},
   "outputs": [
    {
     "data": {
      "text/markdown": [
       "무선전력전송(WPT) 분야 스마트 에너지 관리 및 최적화 시스템에서의 주요 페인포인트인 “전력 분배의 불균형 및 비효율성 문제”에 대해, 에이전트형 AI 기반 솔루션을 제안드립니다.\n",
       "\n",
       "---\n",
       "\n",
       "### 제안 솔루션: 에이전트형 AI 기반 동적 무선전력 분배 및 최적화 시스템\n",
       "\n",
       "**1. 문제 배경 및 필요성**\n",
       "\n",
       "- WPT 환경에서는 전력 수요가 디바이스 종류, 위치, 사용 패턴에 따라 매우 동적으로 변하며, 고정 분배 방식은 낭비와 공급 부족의 양극화를 초래합니다.\n",
       "- 이러한 불균형은 전력 손실 증가, 디바이스 성능 저하 및 전체 네트워크 운영 신뢰성 감소를 야기합니다.\n",
       "\n",
       "**2. 에이전트형 AI 적용 개념**\n",
       "\n",
       "- **분산 에이전트 구성**: 각 WPT 존(zone) 및 디바이스에 전력 관리 에이전트를 배치하여 현장 데이터를 실시간 수집 및 분석합니다.\n",
       "- **실시간 상태 모니터링**: 전력 수요, 디바이스 충전 상태, 주위 환경(예: 장애물, 간섭) 등 다양한 변수를 종합적으로 감지합니다.\n",
       "- **협업 및 조율**: 존 간 에이전트들이 협력해 전력 공급의 우선순위 결정, 부하 분산 및 재조정을 수행합니다.\n",
       "- **학습 기반 최적화**: 강화학습 등 AI 기법을 활용해 시간에 따른 패턴을 학습하고, 전력 분배 정책을 지속적으로 개선합니다.\n",
       "\n",
       "**3. 기대 효과**\n",
       "\n",
       "- **전력 공급 불균형 해소**: 실시간 동적 분배로 특정 존·디바이스 집중 및 공급 부족 현상 완화\n",
       "- **에너지 효율 극대화**: 불필요한 전력 낭비 최소화 및 충전 속도·안정성 향상\n",
       "- **사용자 및 운영 경험 개선**: 충전 지연 감소 및 디바이스 정상 작동 환경 유지\n",
       "- **네트워크 신뢰성 및 확장성 향상**: 분산 및 협력 에이전트 구조로 장애 대응 및 확장 용이\n",
       "\n",
       "**4. 구현 고려 사항**\n",
       "\n",
       "- 디바이스 및 존 단위의 정밀 센싱 및 통신 인프라 확보\n",
       "- 에이전트 간 실시간 데이터 교환 및 의사결정 지연 최소화\n",
       "- AI 학습 모델의 적응력 및 안전성 확보\n",
       "\n",
       "---\n",
       "\n",
       "요약하자면, 무선전력전송 분야의 스마트 에너지 관리에서 에이전트형 AI를 통한 동적, 분산형 전력 분배 및 최적화는 불균형 및 비효율성 문제 해결에 있어 가장 효과적이고 현실적인 접근법이며, 이를 통해 에너지 효율 및 사용자 만족도를 크게 개선할 수 있습니다."
      ],
      "text/plain": [
       "<IPython.core.display.Markdown object>"
      ]
     },
     "metadata": {},
     "output_type": "display_data"
    }
   ],
   "source": [
    "# have 3 third LLM call propose the Agentic AI solution. \n",
    "\n",
    "messages = [{\"role\": \"user\", \"content\": f\"have 3 third LLM call propose the Agentic AI solution : {pain_point}\"}]\n",
    "\n",
    "response = openai.chat.completions.create(\n",
    "    model=\"gpt-4.1-mini\",\n",
    "    messages=messages)\n",
    "\n",
    "agentic_solution = response.choices[0].message.content\n",
    "\n",
    "display(Markdown(agentic_solution))\n",
    "\n"
   ]
  }
 ],
 "metadata": {
  "kernelspec": {
   "display_name": ".venv",
   "language": "python",
   "name": "python3"
  },
  "language_info": {
   "codemirror_mode": {
    "name": "ipython",
    "version": 3
   },
   "file_extension": ".py",
   "mimetype": "text/x-python",
   "name": "python",
   "nbconvert_exporter": "python",
   "pygments_lexer": "ipython3",
   "version": "3.12.12"
  }
 },
 "nbformat": 4,
 "nbformat_minor": 2
}
