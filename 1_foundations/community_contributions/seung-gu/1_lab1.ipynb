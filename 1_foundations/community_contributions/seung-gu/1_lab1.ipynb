{
 "cells": [
  {
   "cell_type": "markdown",
   "metadata": {},
   "source": [
    "# Welcome to the start of your adventure in Agentic AI"
   ]
  },
  {
   "cell_type": "markdown",
   "metadata": {},
   "source": [
    "<table style=\"margin: 0; text-align: left; width:100%\">\n",
    "    <tr>\n",
    "        <td style=\"width: 150px; height: 150px; vertical-align: middle;\">\n",
    "            <img src=\"../assets/stop.png\" width=\"150\" height=\"150\" style=\"display: block;\" />\n",
    "        </td>\n",
    "        <td>\n",
    "            <h2 style=\"color:#ff7800;\">Are you ready for action??</h2>\n",
    "            <span style=\"color:#ff7800;\">Have you completed all the setup steps in the <a href=\"../setup/\">setup</a> folder?<br/>\n",
    "            Have you read the <a href=\"../README.md\">README</a>? Many common questions are answered here!<br/>\n",
    "            Have you checked out the guides in the <a href=\"../guides/01_intro.ipynb\">guides</a> folder?<br/>\n",
    "            Well in that case, you're ready!!\n",
    "            </span>\n",
    "        </td>\n",
    "    </tr>\n",
    "</table>"
   ]
  },
  {
   "cell_type": "markdown",
   "metadata": {},
   "source": [
    "<table style=\"margin: 0; text-align: left; width:100%\">\n",
    "    <tr>\n",
    "        <td style=\"width: 150px; height: 150px; vertical-align: middle;\">\n",
    "            <img src=\"../assets/tools.png\" width=\"150\" height=\"150\" style=\"display: block;\" />\n",
    "        </td>\n",
    "        <td>\n",
    "            <h2 style=\"color:#00bfff;\">This code is a live resource - keep an eye out for my updates</h2>\n",
    "            <span style=\"color:#00bfff;\">I push updates regularly. As people ask questions or have problems, I add more examples and improve explanations. As a result, the code below might not be identical to the videos, as I've added more steps and better comments. Consider this like an interactive book that accompanies the lectures.<br/><br/>\n",
    "            I try to send emails regularly with important updates related to the course. You can find this in the 'Announcements' section of Udemy in the left sidebar. You can also choose to receive my emails via your Notification Settings in Udemy. I'm respectful of your inbox and always try to add value with my emails!\n",
    "            </span>\n",
    "        </td>\n",
    "    </tr>\n",
    "</table>"
   ]
  },
  {
   "cell_type": "markdown",
   "metadata": {},
   "source": [
    "### And please do remember to contact me if I can help\n",
    "\n",
    "And I love to connect: https://www.linkedin.com/in/eddonner/\n",
    "\n",
    "\n",
    "### New to Notebooks like this one? Head over to the guides folder!\n",
    "\n",
    "Just to check you've already added the Python and Jupyter extensions to Cursor, if not already installed:\n",
    "- Open extensions (View >> extensions)\n",
    "- Search for python, and when the results show, click on the ms-python one, and Install it if not already installed\n",
    "- Search for jupyter, and when the results show, click on the Microsoft one, and Install it if not already installed  \n",
    "Then View >> Explorer to bring back the File Explorer.\n",
    "\n",
    "And then:\n",
    "1. Click where it says \"Select Kernel\" near the top right, and select the option called `.venv (Python 3.12.9)` or similar, which should be the first choice or the most prominent choice. You may need to choose \"Python Environments\" first.\n",
    "2. Click in each \"cell\" below, starting with the cell immediately below this text, and press Shift+Enter to run\n",
    "3. Enjoy!\n",
    "\n",
    "After you click \"Select Kernel\", if there is no option like `.venv (Python 3.12.9)` then please do the following:  \n",
    "1. On Mac: From the Cursor menu, choose Settings >> VS Code Settings (NOTE: be sure to select `VSCode Settings` not `Cursor Settings`);  \n",
    "On Windows PC: From the File menu, choose Preferences >> VS Code Settings(NOTE: be sure to select `VSCode Settings` not `Cursor Settings`)  \n",
    "2. In the Settings search bar, type \"venv\"  \n",
    "3. In the field \"Path to folder with a list of Virtual Environments\" put the path to the project root, like C:\\Users\\username\\projects\\agents (on a Windows PC) or /Users/username/projects/agents (on Mac or Linux).  \n",
    "And then try again.\n",
    "\n",
    "Having problems with missing Python versions in that list? Have you ever used Anaconda before? It might be interferring. Quit Cursor, bring up a new command line, and make sure that your Anaconda environment is deactivated:    \n",
    "`conda deactivate`  \n",
    "And if you still have any problems with conda and python versions, it's possible that you will need to run this too:  \n",
    "`conda config --set auto_activate_base false`  \n",
    "and then from within the Agents directory, you should be able to run `uv python list` and see the Python 3.12 version."
   ]
  },
  {
   "cell_type": "code",
   "execution_count": 2,
   "metadata": {},
   "outputs": [],
   "source": [
    "# First let's do an import. If you get an Import Error, double check that your Kernel is correct..\n",
    "\n",
    "from dotenv import load_dotenv"
   ]
  },
  {
   "cell_type": "code",
   "execution_count": 3,
   "metadata": {},
   "outputs": [
    {
     "data": {
      "text/plain": [
       "True"
      ]
     },
     "execution_count": 3,
     "metadata": {},
     "output_type": "execute_result"
    }
   ],
   "source": [
    "# Next it's time to load the API keys into environment variables\n",
    "# If this returns false, see the next cell!\n",
    "\n",
    "load_dotenv(override=True)"
   ]
  },
  {
   "cell_type": "markdown",
   "metadata": {},
   "source": [
    "### Wait, did that just output `False`??\n",
    "\n",
    "If so, the most common reason is that you didn't save your `.env` file after adding the key! Be sure to have saved.\n",
    "\n",
    "Also, make sure the `.env` file is named precisely `.env` and is in the project root directory (`agents`)\n",
    "\n",
    "By the way, your `.env` file should have a stop symbol next to it in Cursor on the left, and that's actually a good thing: that's Cursor saying to you, \"hey, I realize this is a file filled with secret information, and I'm not going to send it to an external AI to suggest changes, because your keys should not be shown to anyone else.\""
   ]
  },
  {
   "cell_type": "markdown",
   "metadata": {},
   "source": [
    "<table style=\"margin: 0; text-align: left; width:100%\">\n",
    "    <tr>\n",
    "        <td style=\"width: 150px; height: 150px; vertical-align: middle;\">\n",
    "            <img src=\"../assets/stop.png\" width=\"150\" height=\"150\" style=\"display: block;\" />\n",
    "        </td>\n",
    "        <td>\n",
    "            <h2 style=\"color:#ff7800;\">Final reminders</h2>\n",
    "            <span style=\"color:#ff7800;\">1. If you're not confident about Environment Variables or Web Endpoints / APIs, please read Topics 3 and 5 in this <a href=\"../guides/04_technical_foundations.ipynb\">technical foundations guide</a>.<br/>\n",
    "            2. If you want to use AIs other than OpenAI, like Gemini, DeepSeek or Ollama (free), please see the first section in this <a href=\"../guides/09_ai_apis_and_ollama.ipynb\">AI APIs guide</a>.<br/>\n",
    "            3. If you ever get a Name Error in Python, you can always fix it immediately; see the last section of this <a href=\"../guides/06_python_foundations.ipynb\">Python Foundations guide</a> and follow both tutorials and exercises.<br/>\n",
    "            </span>\n",
    "        </td>\n",
    "    </tr>\n",
    "</table>"
   ]
  },
  {
   "cell_type": "code",
   "execution_count": 4,
   "metadata": {},
   "outputs": [
    {
     "name": "stdout",
     "output_type": "stream",
     "text": [
      "OpenAI API Key exists and begins sk-proj-\n"
     ]
    }
   ],
   "source": [
    "# Check the key - if you're not using OpenAI, check whichever key you're using! Ollama doesn't need a key.\n",
    "\n",
    "import os\n",
    "openai_api_key = os.getenv('OPENAI_API_KEY')\n",
    "\n",
    "if openai_api_key:\n",
    "    print(f\"OpenAI API Key exists and begins {openai_api_key[:8]}\")\n",
    "else:\n",
    "    print(\"OpenAI API Key not set - please head to the troubleshooting guide in the setup folder\")\n",
    "    \n"
   ]
  },
  {
   "cell_type": "code",
   "execution_count": 5,
   "metadata": {},
   "outputs": [],
   "source": [
    "# And now - the all important import statement\n",
    "# If you get an import error - head over to troubleshooting in the Setup folder\n",
    "# Even for other LLM providers like Gemini, you still use this OpenAI import - see Guide 9 for why\n",
    "\n",
    "from openai import OpenAI"
   ]
  },
  {
   "cell_type": "code",
   "execution_count": 6,
   "metadata": {},
   "outputs": [],
   "source": [
    "# And now we'll create an instance of the OpenAI class\n",
    "# If you're not sure what it means to create an instance of a class - head over to the guides folder (guide 6)!\n",
    "# If you get a NameError - head over to the guides folder (guide 6)to learn about NameErrors - always instantly fixable\n",
    "# If you're not using OpenAI, you just need to slightly modify this - precise instructions are in the AI APIs guide (guide 9)\n",
    "\n",
    "openai = OpenAI()"
   ]
  },
  {
   "cell_type": "code",
   "execution_count": 7,
   "metadata": {},
   "outputs": [],
   "source": [
    "# Create a list of messages in the familiar OpenAI format\n",
    "\n",
    "messages = [{\"role\": \"user\", \"content\": \"What is 2+2?\"}]"
   ]
  },
  {
   "cell_type": "code",
   "execution_count": null,
   "metadata": {},
   "outputs": [
    {
     "name": "stdout",
     "output_type": "stream",
     "text": [
      "2 + 2 equals 4.\n"
     ]
    }
   ],
   "source": [
    "# And now call it! Any problems, head to the troubleshooting guide\n",
    "# This uses GPT 4.1 nano, the incredibly cheap model\n",
    "# The APIs guide (guide 9) has exact instructions for using even cheaper or free alternatives to OpenAI\n",
    "# If you get a NameError, head to the guides folder (guide 6) to learn about NameErrors - always instantly fixable\n",
    "\n",
    "response = openai.chat.completions.create(\n",
    "    model=\"gpt-4.1-nano\",\n",
    "    messages=messages\n",
    ")\n",
    "\n",
    "print(response.choices[0].message.content)\n"
   ]
  },
  {
   "cell_type": "code",
   "execution_count": 10,
   "metadata": {},
   "outputs": [],
   "source": [
    "# And now - let's ask for a question:\n",
    "\n",
    "question = \"Please propose a hard, challenging question to assess someone's IQ. Respond only with the question.\"\n",
    "messages = [{\"role\": \"user\", \"content\": question}]\n"
   ]
  },
  {
   "cell_type": "code",
   "execution_count": null,
   "metadata": {},
   "outputs": [
    {
     "name": "stdout",
     "output_type": "stream",
     "text": [
      "If you have eight identical-looking balls, one of which is slightly heavier, and a balance scale that can be used only twice, how can you determine which ball is the heavier one?\n"
     ]
    }
   ],
   "source": [
    "# ask it - this uses GPT 4.1 mini, still cheap but more powerful than nano\n",
    "\n",
    "response = openai.chat.completions.create(\n",
    "    model=\"gpt-4.1-mini\",\n",
    "    messages=messages\n",
    ")\n",
    "\n",
    "question = response.choices[0].message.content\n",
    "\n",
    "print(question)\n"
   ]
  },
  {
   "cell_type": "code",
   "execution_count": 12,
   "metadata": {},
   "outputs": [],
   "source": [
    "# form a new messages list\n",
    "messages = [{\"role\": \"user\", \"content\": question}]\n"
   ]
  },
  {
   "cell_type": "code",
   "execution_count": 10,
   "metadata": {},
   "outputs": [
    {
     "name": "stdout",
     "output_type": "stream",
     "text": [
      "물리적 무선전력전송(WPT) 기술은 이미 다양한 산업에서 활용되고 있지만, Agentic AI(자율적 의사결정 및 행동 능력을 가진 AI)를 접목할 경우 크게 발전할 수 있는 비즈니스 영역 중 하나는 **스마트 인프라용 무선 전력 관리 시스템**입니다.\n",
      "\n",
      "---\n",
      "\n",
      "In the field of Wireless Power Transmission (WPT), one promising business area to explore for an Agentic AI opportunity is **Wireless Power Management Systems for Smart Infrastructure**.\n",
      "\n",
      "### 한국어 설명:\n",
      "스마트 시티, 스마트 빌딩, 그리고 IoT 환경에서는 다양한 기기들이 무선으로 전력을 공급받으며 동작하게 됩니다. 이때 Agentic AI는 무선 전력망 내에서 실시간으로 전력 수요를 예측하고, 각 기기별 에너지 사용 패턴을 분석해 최적의 전력 할당과 분배를 자율적으로 결정할 수 있습니다. 또한 장애 상황이나 효율 저하 문제를 사전에 진단하고 스스로 조치를 취함으로써 무선 전력 네트워크의 안정성과 효율성을 극대화할 수 있습니다.\n",
      "\n",
      "### English Explanation:\n",
      "In smart cities, smart buildings, and IoT environments, numerous devices operate powered wirelessly. Agentic AI can predict real-time power demand within the wireless power grid, analyze energy consumption patterns of each device, and autonomously decide the optimal power allocation and distribution. Moreover, it can proactively diagnose faults or efficiency drops and take corrective actions by itself, thereby maximizing the stability and efficiency of wireless power networks.\n",
      "\n",
      "이와 같은 무선 전력 관리 자동화 솔루션은 에너지 비용 절감, 네트워크 안정성 향상, 사용자 경험 개선 등에서 큰 가치를 창출할 수 있어, Agentic AI 기술 도입에 매우 적합한 분야입니다.\n",
      "\n",
      "This wireless power management automation solution can generate significant value through energy cost reduction, improved network reliability, and enhanced user experience, making it a highly suitable area for integrating Agentic AI technologies.\n"
     ]
    }
   ],
   "source": [
    "# Ask it again\n",
    "\n",
    "response = openai.chat.completions.create(\n",
    "    model=\"gpt-4.1-mini\",\n",
    "    messages=messages\n",
    ")\n",
    "\n",
    "answer = response.choices[0].message.content\n",
    "print(answer)\n"
   ]
  },
  {
   "cell_type": "code",
   "execution_count": 11,
   "metadata": {},
   "outputs": [
    {
     "data": {
      "text/markdown": [
       "물리적 무선전력전송(WPT) 기술은 이미 다양한 산업에서 활용되고 있지만, Agentic AI(자율적 의사결정 및 행동 능력을 가진 AI)를 접목할 경우 크게 발전할 수 있는 비즈니스 영역 중 하나는 **스마트 인프라용 무선 전력 관리 시스템**입니다.\n",
       "\n",
       "---\n",
       "\n",
       "In the field of Wireless Power Transmission (WPT), one promising business area to explore for an Agentic AI opportunity is **Wireless Power Management Systems for Smart Infrastructure**.\n",
       "\n",
       "### 한국어 설명:\n",
       "스마트 시티, 스마트 빌딩, 그리고 IoT 환경에서는 다양한 기기들이 무선으로 전력을 공급받으며 동작하게 됩니다. 이때 Agentic AI는 무선 전력망 내에서 실시간으로 전력 수요를 예측하고, 각 기기별 에너지 사용 패턴을 분석해 최적의 전력 할당과 분배를 자율적으로 결정할 수 있습니다. 또한 장애 상황이나 효율 저하 문제를 사전에 진단하고 스스로 조치를 취함으로써 무선 전력 네트워크의 안정성과 효율성을 극대화할 수 있습니다.\n",
       "\n",
       "### English Explanation:\n",
       "In smart cities, smart buildings, and IoT environments, numerous devices operate powered wirelessly. Agentic AI can predict real-time power demand within the wireless power grid, analyze energy consumption patterns of each device, and autonomously decide the optimal power allocation and distribution. Moreover, it can proactively diagnose faults or efficiency drops and take corrective actions by itself, thereby maximizing the stability and efficiency of wireless power networks.\n",
       "\n",
       "이와 같은 무선 전력 관리 자동화 솔루션은 에너지 비용 절감, 네트워크 안정성 향상, 사용자 경험 개선 등에서 큰 가치를 창출할 수 있어, Agentic AI 기술 도입에 매우 적합한 분야입니다.\n",
       "\n",
       "This wireless power management automation solution can generate significant value through energy cost reduction, improved network reliability, and enhanced user experience, making it a highly suitable area for integrating Agentic AI technologies."
      ],
      "text/plain": [
       "<IPython.core.display.Markdown object>"
      ]
     },
     "metadata": {},
     "output_type": "display_data"
    }
   ],
   "source": [
    "from IPython.display import Markdown, display\n",
    "\n",
    "display(Markdown(answer))\n",
    "\n"
   ]
  },
  {
   "cell_type": "markdown",
   "metadata": {},
   "source": [
    "# Congratulations!\n",
    "\n",
    "That was a small, simple step in the direction of Agentic AI, with your new environment!\n",
    "\n",
    "Next time things get more interesting..."
   ]
  },
  {
   "cell_type": "markdown",
   "metadata": {},
   "source": [
    "<table style=\"margin: 0; text-align: left; width:100%\">\n",
    "    <tr>\n",
    "        <td style=\"width: 150px; height: 150px; vertical-align: middle;\">\n",
    "            <img src=\"../assets/exercise.png\" width=\"150\" height=\"150\" style=\"display: block;\" />\n",
    "        </td>\n",
    "        <td>\n",
    "            <h2 style=\"color:#ff7800;\">Exercise</h2>\n",
    "            <span style=\"color:#ff7800;\">Now try this commercial application:<br/>\n",
    "            First ask the LLM to pick a business area that might be worth exploring for an Agentic AI opportunity.<br/>\n",
    "            Then ask the LLM to present a pain-point in that industry - something challenging that might be ripe for an Agentic solution.<br/>\n",
    "            Finally have 3 third LLM call propose the Agentic AI solution. <br/>\n",
    "            We will cover this at up-coming labs, so don't worry if you're unsure.. just give it a try!\n",
    "            </span>\n",
    "        </td>\n",
    "    </tr>\n",
    "</table>"
   ]
  },
  {
   "cell_type": "code",
   "execution_count": null,
   "metadata": {},
   "outputs": [
    {
     "data": {
      "text/markdown": [
       "### 한국어:  \n",
       "무선 전력 전송(WPT) 분야에서 에이전틱 AI 기회를 탐색할 가치가 있는 비즈니스 영역으로는 **스마트 에너지 관리 및 최적화**를 추천합니다.  \n",
       "\n",
       "스마트 에너지 관리 시스템은 AI를 활용해 실시간으로 전력 수요와 공급을 분석하고, 무선 전력 전송의 효율성을 극대화하며 에너지 낭비를 줄입니다. 에이전틱 AI가 자율적으로 다양한 WPT 네트워크를 감시하고 조정하여 최적의 전력 배분, 충전 스케줄 관리, 유지보수 예측 등을 수행할 수 있습니다. 특히 IoT 기기, 전기차(EV) 무선 충전, 스마트 스마트 시티 인프라 등에서 큰 잠재력이 있습니다.  \n",
       "\n",
       "이 분야는 에너지 효율성과 지속 가능성을 향상시키기 위한 산업적 필요가 증가하고 있으며, AI 기반의 자율 시스템 도입으로 혁신이 기대됩니다.  \n",
       "\n",
       "### English:  \n",
       "A promising business area in the Wireless Power Transmission (WPT) field for an Agentic AI opportunity is **smart energy management and optimization**.  \n",
       "\n",
       "Smart energy management systems use AI to analyze power demand and supply in real-time, maximizing the efficiency of wireless power transfer and reducing energy waste. An agentic AI could autonomously monitor and adjust various WPT networks to optimize power distribution, manage charging schedules, and predict maintenance needs. This area holds strong potential, especially for IoT devices, wireless EV charging, and smart city infrastructure.  \n",
       "\n",
       "There is a growing industrial need to improve energy efficiency and sustainability, and the introduction of autonomous AI systems is expected to bring key innovations in this sector."
      ],
      "text/plain": [
       "<IPython.core.display.Markdown object>"
      ]
     },
     "metadata": {},
     "output_type": "display_data"
    }
   ],
   "source": [
    "# First create the messages:\n",
    "\n",
    "messages = create_bilingual_messages(\"Pick a business area in WPT (Wireless power transmission) field that might worth exploring for an Agentic AI opportunity.\")\n",
    "\n",
    "# Then make the first call:\n",
    "\n",
    "response = openai.chat.completions.create(\n",
    "    model=\"gpt-4.1-mini\",\n",
    "    messages=messages\n",
    ")\n",
    "\n",
    "# Then read the business idea:\n",
    "\n",
    "business_idea = response.choices[0].message.content\n",
    "\n",
    "display(Markdown(business_idea))\n",
    "\n"
   ]
  },
  {
   "cell_type": "code",
   "execution_count": null,
   "metadata": {},
   "outputs": [
    {
     "data": {
      "text/markdown": [
       "### 한국어:  \n",
       "무선 전력 전송(WPT) 분야에서 스마트 에너지 관리 및 최적화를 위한 에이전틱 AI 도입 시 가장 큰 페인포인트 중 하나는 **다양한 장치와 네트워크 간의 상호 운용성 부족**입니다.  \n",
       "\n",
       "각기 다른 제조사와 프로토콜로 운영되는 WPT 시스템들은 통합 관리를 어렵게 하며, AI가 실시간으로 정확한 데이터를 수집하고 분석하기 힘든 환경을 만듭니다. 이로 인해 최적화 알고리즘의 신뢰성과 효과가 저하되고, 시스템 전반의 효율 개선이 제한받습니다. 또한, 무선 전력 전송 중 발생하는 간섭 문제나 전력 손실을 사전에 감지하고 대응하는 것도 복잡한 문제로 남아 있습니다.  \n",
       "\n",
       "이 페인포인트를 해결하는 데 AI 기반 표준화, 데이터 통합 플랫폼, 그리고 실시간 상호 운용성 관리 기능 개발이 중요한 역할을 할 수 있습니다.\n",
       "\n",
       "### English:  \n",
       "One of the major pain-points in introducing agentic AI for smart energy management and optimization in the Wireless Power Transmission (WPT) field is the **lack of interoperability among diverse devices and networks**.  \n",
       "\n",
       "WPT systems operated by different manufacturers and protocols pose challenges for integrated management, making it difficult for AI to collect and analyze accurate real-time data. This reduces the reliability and effectiveness of optimization algorithms and limits overall efficiency improvements in the system. Additionally, detecting and responding proactively to interference issues or power losses during wireless transmission remains a complex challenge.  \n",
       "\n",
       "Addressing this pain-point requires AI-driven standardization, data integration platforms, and real-time interoperability management capabilities."
      ],
      "text/plain": [
       "<IPython.core.display.Markdown object>"
      ]
     },
     "metadata": {},
     "output_type": "display_data"
    }
   ],
   "source": [
    "# ask the LLM to propose a pain-point in the given industry\n",
    "\n",
    "messages = create_bilingual_messages(f\"Please propose a pain-point in the given industry: {business_idea}\")\n",
    "\n",
    "response = openai.chat.completions.create(\n",
    "    model=\"gpt-4.1-mini\",\n",
    "    messages=messages)\n",
    "\n",
    "pain_point = response.choices[0].message.content\n",
    "\n",
    "display(Markdown(pain_point))\n",
    "\n"
   ]
  },
  {
   "cell_type": "code",
   "execution_count": null,
   "metadata": {},
   "outputs": [
    {
     "data": {
      "text/markdown": [
       "무선전력전송(WPT) 분야 스마트 에너지 관리 및 최적화 시스템에서의 주요 페인포인트인 “전력 분배의 불균형 및 비효율성 문제”에 대해, 에이전트형 AI 기반 솔루션을 제안드립니다.\n",
       "\n",
       "---\n",
       "\n",
       "### 제안 솔루션: 에이전트형 AI 기반 동적 무선전력 분배 및 최적화 시스템\n",
       "\n",
       "**1. 문제 배경 및 필요성**\n",
       "\n",
       "- WPT 환경에서는 전력 수요가 디바이스 종류, 위치, 사용 패턴에 따라 매우 동적으로 변하며, 고정 분배 방식은 낭비와 공급 부족의 양극화를 초래합니다.\n",
       "- 이러한 불균형은 전력 손실 증가, 디바이스 성능 저하 및 전체 네트워크 운영 신뢰성 감소를 야기합니다.\n",
       "\n",
       "**2. 에이전트형 AI 적용 개념**\n",
       "\n",
       "- **분산 에이전트 구성**: 각 WPT 존(zone) 및 디바이스에 전력 관리 에이전트를 배치하여 현장 데이터를 실시간 수집 및 분석합니다.\n",
       "- **실시간 상태 모니터링**: 전력 수요, 디바이스 충전 상태, 주위 환경(예: 장애물, 간섭) 등 다양한 변수를 종합적으로 감지합니다.\n",
       "- **협업 및 조율**: 존 간 에이전트들이 협력해 전력 공급의 우선순위 결정, 부하 분산 및 재조정을 수행합니다.\n",
       "- **학습 기반 최적화**: 강화학습 등 AI 기법을 활용해 시간에 따른 패턴을 학습하고, 전력 분배 정책을 지속적으로 개선합니다.\n",
       "\n",
       "**3. 기대 효과**\n",
       "\n",
       "- **전력 공급 불균형 해소**: 실시간 동적 분배로 특정 존·디바이스 집중 및 공급 부족 현상 완화\n",
       "- **에너지 효율 극대화**: 불필요한 전력 낭비 최소화 및 충전 속도·안정성 향상\n",
       "- **사용자 및 운영 경험 개선**: 충전 지연 감소 및 디바이스 정상 작동 환경 유지\n",
       "- **네트워크 신뢰성 및 확장성 향상**: 분산 및 협력 에이전트 구조로 장애 대응 및 확장 용이\n",
       "\n",
       "**4. 구현 고려 사항**\n",
       "\n",
       "- 디바이스 및 존 단위의 정밀 센싱 및 통신 인프라 확보\n",
       "- 에이전트 간 실시간 데이터 교환 및 의사결정 지연 최소화\n",
       "- AI 학습 모델의 적응력 및 안전성 확보\n",
       "\n",
       "---\n",
       "\n",
       "요약하자면, 무선전력전송 분야의 스마트 에너지 관리에서 에이전트형 AI를 통한 동적, 분산형 전력 분배 및 최적화는 불균형 및 비효율성 문제 해결에 있어 가장 효과적이고 현실적인 접근법이며, 이를 통해 에너지 효율 및 사용자 만족도를 크게 개선할 수 있습니다."
      ],
      "text/plain": [
       "<IPython.core.display.Markdown object>"
      ]
     },
     "metadata": {},
     "output_type": "display_data"
    }
   ],
   "source": [
    "# have 3 third LLM call propose the Agentic AI solution. \n",
    "\n",
    "messages = create_bilingual_messages(f\"Propose an Agentic AI solution for this pain point: {pain_point}\")\n",
    "\n",
    "response = openai.chat.completions.create(\n",
    "    model=\"gpt-4.1-mini\",\n",
    "    messages=messages)\n",
    "\n",
    "agentic_solution = response.choices[0].message.content\n",
    "\n",
    "display(Markdown(agentic_solution))\n",
    "\n"
   ]
  },
  {
   "cell_type": "code",
   "execution_count": 22,
   "metadata": {},
   "outputs": [],
   "source": [
    "# Helper function to create bilingual messages\n",
    "def create_bilingual_messages(user_content):\n",
    "    \"\"\"\n",
    "    Creates a messages list with system prompt for bilingual (Korean/English) responses\n",
    "    \"\"\"\n",
    "    return [\n",
    "        {\n",
    "            \"role\": \"system\", \n",
    "            \"content\": \"You must always respond in both Korean and English. Provide your answer in Korean first, then provide the same answer in English. Use clear section headers like '### 한국어:' and '### English:' to separate the languages.\"\n",
    "        },\n",
    "        {\n",
    "            \"role\": \"user\", \n",
    "            \"content\": user_content\n",
    "        }\n",
    "    ]\n",
    "\n",
    "# Example usage:\n",
    "# messages = create_bilingual_messages(\"Your question here\")\n"
   ]
  }
 ],
 "metadata": {
  "kernelspec": {
   "display_name": ".venv",
   "language": "python",
   "name": "python3"
  },
  "language_info": {
   "codemirror_mode": {
    "name": "ipython",
    "version": 3
   },
   "file_extension": ".py",
   "mimetype": "text/x-python",
   "name": "python",
   "nbconvert_exporter": "python",
   "pygments_lexer": "ipython3",
   "version": "3.12.12"
  }
 },
 "nbformat": 4,
 "nbformat_minor": 2
}
