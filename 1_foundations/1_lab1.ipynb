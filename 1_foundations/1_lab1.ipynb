{
 "cells": [
  {
   "cell_type": "markdown",
   "metadata": {},
   "source": [
    "# Welcome to the start of your adventure in Agentic AI"
   ]
  },
  {
   "cell_type": "markdown",
   "metadata": {},
   "source": [
    "<table style=\"margin: 0; text-align: left; width:100%\">\n",
    "    <tr>\n",
    "        <td style=\"width: 150px; height: 150px; vertical-align: middle;\">\n",
    "            <img src=\"../assets/stop.png\" width=\"150\" height=\"150\" style=\"display: block;\" />\n",
    "        </td>\n",
    "        <td>\n",
    "            <h2 style=\"color:#ff7800;\">Are you ready for action??</h2>\n",
    "            <span style=\"color:#ff7800;\">Have you completed all the setup steps in the <a href=\"../setup/\">setup</a> folder?<br/>\n",
    "            Have you read the <a href=\"../README.md\">README</a>? Many common questions are answered here!<br/>\n",
    "            Have you checked out the guides in the <a href=\"../guides/01_intro.ipynb\">guides</a> folder?<br/>\n",
    "            Well in that case, you're ready!!\n",
    "            </span>\n",
    "        </td>\n",
    "    </tr>\n",
    "</table>"
   ]
  },
  {
   "cell_type": "markdown",
   "metadata": {},
   "source": [
    "<table style=\"margin: 0; text-align: left; width:100%\">\n",
    "    <tr>\n",
    "        <td style=\"width: 150px; height: 150px; vertical-align: middle;\">\n",
    "            <img src=\"../assets/tools.png\" width=\"150\" height=\"150\" style=\"display: block;\" />\n",
    "        </td>\n",
    "        <td>\n",
    "            <h2 style=\"color:#00bfff;\">This code is a live resource - keep an eye out for my updates</h2>\n",
    "            <span style=\"color:#00bfff;\">I push updates regularly. As people ask questions or have problems, I add more examples and improve explanations. As a result, the code below might not be identical to the videos, as I've added more steps and better comments. Consider this like an interactive book that accompanies the lectures.<br/><br/>\n",
    "            I try to send emails regularly with important updates related to the course. You can find this in the 'Announcements' section of Udemy in the left sidebar. You can also choose to receive my emails via your Notification Settings in Udemy. I'm respectful of your inbox and always try to add value with my emails!\n",
    "            </span>\n",
    "        </td>\n",
    "    </tr>\n",
    "</table>"
   ]
  },
  {
   "cell_type": "markdown",
   "metadata": {},
   "source": [
    "### And please do remember to contact me if I can help\n",
    "\n",
    "And I love to connect: https://www.linkedin.com/in/eddonner/\n",
    "\n",
    "\n",
    "### New to Notebooks like this one? Head over to the guides folder!\n",
    "\n",
    "Just to check you've already added the Python and Jupyter extensions to Cursor, if not already installed:\n",
    "- Open extensions (View >> extensions)\n",
    "- Search for python, and when the results show, click on the ms-python one, and Install it if not already installed\n",
    "- Search for jupyter, and when the results show, click on the Microsoft one, and Install it if not already installed  \n",
    "Then View >> Explorer to bring back the File Explorer.\n",
    "\n",
    "And then:\n",
    "1. Click where it says \"Select Kernel\" near the top right, and select the option called `.venv (Python 3.12.9)` or similar, which should be the first choice or the most prominent choice. You may need to choose \"Python Environments\" first.\n",
    "2. Click in each \"cell\" below, starting with the cell immediately below this text, and press Shift+Enter to run\n",
    "3. Enjoy!\n",
    "\n",
    "After you click \"Select Kernel\", if there is no option like `.venv (Python 3.12.9)` then please do the following:  \n",
    "1. On Mac: From the Cursor menu, choose Settings >> VS Code Settings (NOTE: be sure to select `VSCode Settings` not `Cursor Settings`);  \n",
    "On Windows PC: From the File menu, choose Preferences >> VS Code Settings(NOTE: be sure to select `VSCode Settings` not `Cursor Settings`)  \n",
    "2. In the Settings search bar, type \"venv\"  \n",
    "3. In the field \"Path to folder with a list of Virtual Environments\" put the path to the project root, like C:\\Users\\username\\projects\\agents (on a Windows PC) or /Users/username/projects/agents (on Mac or Linux).  \n",
    "And then try again.\n",
    "\n",
    "Having problems with missing Python versions in that list? Have you ever used Anaconda before? It might be interferring. Quit Cursor, bring up a new command line, and make sure that your Anaconda environment is deactivated:    \n",
    "`conda deactivate`  \n",
    "And if you still have any problems with conda and python versions, it's possible that you will need to run this too:  \n",
    "`conda config --set auto_activate_base false`  \n",
    "and then from within the Agents directory, you should be able to run `uv python list` and see the Python 3.12 version."
   ]
  },
  {
   "cell_type": "code",
   "execution_count": 32,
   "metadata": {},
   "outputs": [],
   "source": [
    "# First let's do an import. If you get an Import Error, double check that your Kernel is correct..\n",
    "\n",
    "from dotenv import load_dotenv\n"
   ]
  },
  {
   "cell_type": "code",
   "execution_count": 33,
   "metadata": {},
   "outputs": [
    {
     "data": {
      "text/plain": [
       "True"
      ]
     },
     "execution_count": 33,
     "metadata": {},
     "output_type": "execute_result"
    }
   ],
   "source": [
    "# Next it's time to load the API keys into environment variables\n",
    "# If this returns false, see the next cell!\n",
    "\n",
    "load_dotenv(override=True)"
   ]
  },
  {
   "cell_type": "markdown",
   "metadata": {},
   "source": [
    "### Wait, did that just output `False`??\n",
    "\n",
    "If so, the most common reason is that you didn't save your `.env` file after adding the key! Be sure to have saved.\n",
    "\n",
    "Also, make sure the `.env` file is named precisely `.env` and is in the project root directory (`agents`)\n",
    "\n",
    "By the way, your `.env` file should have a stop symbol next to it in Cursor on the left, and that's actually a good thing: that's Cursor saying to you, \"hey, I realize this is a file filled with secret information, and I'm not going to send it to an external AI to suggest changes, because your keys should not be shown to anyone else.\""
   ]
  },
  {
   "cell_type": "markdown",
   "metadata": {},
   "source": [
    "<table style=\"margin: 0; text-align: left; width:100%\">\n",
    "    <tr>\n",
    "        <td style=\"width: 150px; height: 150px; vertical-align: middle;\">\n",
    "            <img src=\"../assets/stop.png\" width=\"150\" height=\"150\" style=\"display: block;\" />\n",
    "        </td>\n",
    "        <td>\n",
    "            <h2 style=\"color:#ff7800;\">Final reminders</h2>\n",
    "            <span style=\"color:#ff7800;\">1. If you're not confident about Environment Variables or Web Endpoints / APIs, please read Topics 3 and 5 in this <a href=\"../guides/04_technical_foundations.ipynb\">technical foundations guide</a>.<br/>\n",
    "            2. If you want to use AIs other than OpenAI, like Gemini, DeepSeek or Ollama (free), please see the first section in this <a href=\"../guides/09_ai_apis_and_ollama.ipynb\">AI APIs guide</a>.<br/>\n",
    "            3. If you ever get a Name Error in Python, you can always fix it immediately; see the last section of this <a href=\"../guides/06_python_foundations.ipynb\">Python Foundations guide</a> and follow both tutorials and exercises.<br/>\n",
    "            </span>\n",
    "        </td>\n",
    "    </tr>\n",
    "</table>"
   ]
  },
  {
   "cell_type": "code",
   "execution_count": 34,
   "metadata": {},
   "outputs": [],
   "source": [
    "# Check the key - if you're not using OpenAI, check whichever key you're using! Ollama doesn't need a key.\n",
    "\n",
    "import os\n",
    "from openai import OpenAI\n",
    "\n",
    "\n",
    "GEMINI_BASE_URL = \"https://generativelanguage.googleapis.com/v1beta/openai/\"\n",
    "google_api_key = os.getenv(\"GOOGLE_API_KEY\")\n",
    "gemini_client = OpenAI(base_url=GEMINI_BASE_URL, api_key=google_api_key)"
   ]
  },
  {
   "cell_type": "code",
   "execution_count": 35,
   "metadata": {},
   "outputs": [],
   "source": [
    "# Create a list of messages in the familiar OpenAI format\n",
    "\n",
    "messages = [{\"role\": \"user\", \"content\": \"What is 2+2?\"}]"
   ]
  },
  {
   "cell_type": "code",
   "execution_count": 37,
   "metadata": {},
   "outputs": [
    {
     "name": "stdout",
     "output_type": "stream",
     "text": [
      "2 + 2 = 4\n",
      "\n"
     ]
    }
   ],
   "source": [
    "# And now call it! Any problems, head to the troubleshooting guide\n",
    "# This uses GPT 4.1 nano, the incredibly cheap model\n",
    "# The APIs guide (guide 9) has exact instructions for using even cheaper or free alternatives to OpenAI\n",
    "# If you get a NameError, head to the guides folder (guide 6) to learn about NameErrors - always instantly fixable\n",
    "\n",
    "response = gemini_client.chat.completions.create(\n",
    "    model=\"gemini-2.0-flash\",\n",
    "    messages=messages\n",
    ")\n",
    "\n",
    "print(response.choices[0].message.content)\n"
   ]
  },
  {
   "cell_type": "code",
   "execution_count": 38,
   "metadata": {},
   "outputs": [],
   "source": [
    "# And now - let's ask for a question:\n",
    "\n",
    "question = \"Please propose a hard, challenging question to assess someone's IQ. Respond only with the question.\"\n",
    "messages = [{\"role\": \"user\", \"content\": question}]\n"
   ]
  },
  {
   "cell_type": "code",
   "execution_count": 39,
   "metadata": {},
   "outputs": [
    {
     "name": "stdout",
     "output_type": "stream",
     "text": [
      "You are given two identical decks of cards. One card is removed from the first deck and placed unseen into the second. The second deck is then thoroughly shuffled. You draw one card from the second deck. What is the probability that the card you draw is the missing card from the first deck?\n",
      "\n"
     ]
    }
   ],
   "source": [
    "# ask it - this uses GPT 4.1 mini, still cheap but more powerful than nano\n",
    "\n",
    "response = gemini_client.chat.completions.create(\n",
    "    model=\"gemini-2.0-flash\",\n",
    "    messages=messages\n",
    ")\n",
    "\n",
    "question = response.choices[0].message.content\n",
    "\n",
    "print(question)\n"
   ]
  },
  {
   "cell_type": "code",
   "execution_count": null,
   "metadata": {},
   "outputs": [],
   "source": [
    "# form a new messages list\n",
    "messages = [{\"role\": \"user\", \"content\": question}]\n"
   ]
  },
  {
   "cell_type": "code",
   "execution_count": 40,
   "metadata": {},
   "outputs": [
    {
     "name": "stdout",
     "output_type": "stream",
     "text": [
      "Imagine a perfect, infinite binary tree where each node represents a unique positive integer. The root node (topmost node) is assigned the value 1. For any node with value 'n', its left child is assigned the value 2n, and its right child is assigned the value 2n + 1.\n",
      "\n",
      "You are given two positive integers, 'a' and 'b'. Describe the most efficient algorithm (in terms of computational complexity and brevity of description) to find the length of the shortest path between the node with value 'a' and the node with value 'b' in this infinite binary tree. The path length is defined as the number of edges traversed.\n",
      "\n"
     ]
    }
   ],
   "source": [
    "# Ask it again\n",
    "\n",
    "response = gemini_client.chat.completions.create(\n",
    "    model=\"gemini-2.0-flash\",\n",
    "    messages=messages\n",
    ")\n",
    "\n",
    "answer = response.choices[0].message.content\n",
    "print(answer)\n"
   ]
  },
  {
   "cell_type": "code",
   "execution_count": 41,
   "metadata": {},
   "outputs": [
    {
     "data": {
      "text/markdown": [
       "Imagine a perfect, infinite binary tree where each node represents a unique positive integer. The root node (topmost node) is assigned the value 1. For any node with value 'n', its left child is assigned the value 2n, and its right child is assigned the value 2n + 1.\n",
       "\n",
       "You are given two positive integers, 'a' and 'b'. Describe the most efficient algorithm (in terms of computational complexity and brevity of description) to find the length of the shortest path between the node with value 'a' and the node with value 'b' in this infinite binary tree. The path length is defined as the number of edges traversed.\n"
      ],
      "text/plain": [
       "<IPython.core.display.Markdown object>"
      ]
     },
     "metadata": {},
     "output_type": "display_data"
    }
   ],
   "source": [
    "from IPython.display import Markdown, display\n",
    "\n",
    "display(Markdown(answer))\n",
    "\n"
   ]
  },
  {
   "cell_type": "markdown",
   "metadata": {},
   "source": [
    "# Congratulations!\n",
    "\n",
    "That was a small, simple step in the direction of Agentic AI, with your new environment!\n",
    "\n",
    "Next time things get more interesting..."
   ]
  },
  {
   "cell_type": "markdown",
   "metadata": {},
   "source": [
    "<table style=\"margin: 0; text-align: left; width:100%\">\n",
    "    <tr>\n",
    "        <td style=\"width: 150px; height: 150px; vertical-align: middle;\">\n",
    "            <img src=\"../assets/exercise.png\" width=\"150\" height=\"150\" style=\"display: block;\" />\n",
    "        </td>\n",
    "        <td>\n",
    "            <h2 style=\"color:#ff7800;\">Exercise</h2>\n",
    "            <span style=\"color:#ff7800;\">Now try this commercial application:<br/>\n",
    "            First ask the LLM to pick a business area that might be worth exploring for an Agentic AI opportunity.<br/>\n",
    "            Then ask the LLM to present a pain-point in that industry - something challenging that might be ripe for an Agentic solution.<br/>\n",
    "            Finally have 3 third LLM call propose the Agentic AI solution. <br/>\n",
    "            We will cover this at up-coming labs, so don't worry if you're unsure.. just give it a try!\n",
    "            </span>\n",
    "        </td>\n",
    "    </tr>\n",
    "</table>"
   ]
  },
  {
   "cell_type": "code",
   "execution_count": 42,
   "metadata": {},
   "outputs": [
    {
     "data": {
      "text/markdown": [
       "### 🏢 Business Area\n",
       "Let's explore **Personalized Education Tutoring** as a business area ripe for Agentic AI opportunities.\n",
       "\n",
       "**Why Personalized Education Tutoring?**\n",
       "\n",
       "*   **High Demand & Market Size:** The global tutoring market is massive and growing rapidly. Parents and students are increasingly seeking personalized learning experiences to supplement traditional education.\n",
       "*   **Inefficiency & Accessibility Issues:** Traditional tutoring is often expensive and geographically limited.  Human tutors can also struggle to provide consistent, individualized attention across all subjects and learning styles.\n",
       "*   **Data-Rich Environment:** Education generates a wealth of data, including student performance, learning styles, knowledge gaps, and preferred learning methods. This data is crucial for training and optimizing Agentic AI systems.\n",
       "*   **Potential for Automation & Scale:**  Many tutoring tasks, such as identifying areas of weakness, creating practice questions, providing feedback, and tracking progress, can be automated with AI.\n",
       "*   **Ethical Considerations & Positive Impact:**  Personalized education can help students of all backgrounds achieve their academic potential, promoting equity and social mobility.  However, ethical considerations around bias, privacy, and the role of human interaction are important.\n",
       "\n",
       "**Agentic AI Opportunities in Personalized Education Tutoring:**\n",
       "\n",
       "Here are some potential applications of Agentic AI in this area, broken down by Agent capabilities:\n",
       "\n",
       "*   **Planning and Goal Setting:**\n",
       "    *   **Personalized Learning Path Creation:**  An AI agent can analyze a student's diagnostic test results, learning goals, and learning style preferences to create a customized learning path.  It can break down complex topics into smaller, manageable modules.\n",
       "    *   **Adaptive Scheduling and Time Management:** The agent can help students create study schedules that optimize their time and align with their individual energy levels and commitments.  It can dynamically adjust the schedule based on progress and unforeseen events.\n",
       "*   **Action & Execution:**\n",
       "    *   **Adaptive Content Delivery:**  The agent can deliver learning materials (explanations, examples, practice questions, videos) tailored to the student's current understanding and preferred learning style. It can seamlessly switch between different modalities.\n",
       "    *   **Personalized Feedback and Remediation:**  The agent can provide immediate, detailed feedback on student work, identifying specific errors and offering targeted remediation exercises.  It can adapt its feedback style to the student's personality and motivational needs.\n",
       "    *   **Interactive Problem Solving:** The agent can guide students through complex problems step-by-step, providing hints and explanations as needed.  It can simulate real-world scenarios and encourage active learning.\n",
       "*   **Learning & Adaptation:**\n",
       "    *   **Continuous Assessment and Knowledge Tracing:**  The agent can continuously monitor student performance and update its understanding of their knowledge gaps and strengths.  It can use this information to personalize the learning experience in real time.\n",
       "    *   **Learning Style Optimization:** The agent can experiment with different teaching strategies and content formats to identify what works best for each student.  It can adapt its approach based on student engagement and performance.\n",
       "    *   **Curriculum Augmentation:**  The agent can continuously update its knowledge base with the latest research and best practices in education. It can also suggest new topics and skills for students to explore based on their interests and career goals.\n",
       "*   **Communication & Collaboration:**\n",
       "    *   **Motivational Support and Encouragement:**  The agent can provide personalized encouragement and motivation to help students stay on track and overcome challenges.\n",
       "    *   **Human Tutor Collaboration:**  The agent can act as a virtual assistant to human tutors, freeing them up to focus on higher-level tasks such as building rapport and providing emotional support.  It can also provide tutors with data-driven insights into student performance.\n",
       "    *   **Parent/Guardian Communication:**  The agent can provide regular updates to parents/guardians on their child's progress and areas where they may need extra support.\n",
       "\n",
       "**Example Business Model:**\n",
       "\n",
       "A company could offer a subscription-based service that provides students with access to an Agentic AI tutor.  The service could be targeted at specific subjects (e.g., math, science, language arts) or grade levels. The subscription price could vary depending on the level of personalization and support provided.\n",
       "\n",
       "**Challenges and Considerations:**\n",
       "\n",
       "*   **Data Privacy and Security:**  Protecting student data is paramount.\n",
       "*   **Bias Mitigation:**  Ensuring that the AI agent is fair and unbiased in its assessment and instruction.\n",
       "*   **Human-AI Collaboration:**  Finding the right balance between AI-powered automation and human interaction.  Maintaining the emotional connection and empathetic support that a human tutor can provide.\n",
       "*   **Explainability and Transparency:**  Making the AI agent's reasoning and decision-making processes transparent to students and educators.\n",
       "*   **Measuring Learning Outcomes:**  Developing robust methods for measuring the effectiveness of the AI-powered tutoring system.\n",
       "*   **Evolving Education Standards:** Keeping the AI up to date with changing curriculum and best practices.\n",
       "\n",
       "In conclusion, the personalized education tutoring market presents a compelling opportunity for Agentic AI. By addressing the challenges and ethical considerations, it is possible to create AI-powered tutoring systems that are more effective, accessible, and equitable than traditional tutoring methods. This is a space ripe for innovation and positive impact.\n"
      ],
      "text/plain": [
       "<IPython.core.display.Markdown object>"
      ]
     },
     "metadata": {},
     "output_type": "display_data"
    },
    {
     "data": {
      "text/markdown": [
       "### 😣 Pain Point\n",
       "A major pain point ripe for an Agentic AI solution within Personalized Education Tutoring lies in **maintaining consistent student motivation and engagement, especially in the face of frustration and learning difficulties.**\n",
       "\n",
       "**The Problem:**\n",
       "\n",
       "*   **Fluctuating Motivation:** Student motivation is rarely consistent. It dips significantly when students encounter challenging concepts, struggle with practice problems, or feel overwhelmed by the learning process. A drop in motivation quickly leads to disengagement and ultimately hampers learning progress.\n",
       "*   **Inconsistent Human Tutor Response:** Even the best human tutors have limitations. They can't be perpetually \"on,\" consistently providing personalized encouragement and adaptive support at the precise moment a student needs it. Human tutors may also have their own biases in how they address student discouragement.\n",
       "*   **Lack of Real-Time, Granular Insight:** Human tutors may not always immediately recognize subtle shifts in a student's emotional state that indicate frustration or disengagement. This delay can lead to missed opportunities for intervention.\n",
       "*   **Personalized Encouragement Complexity:** Simply providing generic encouragement isn't enough. Effective motivation requires personalized strategies tailored to the student's individual personality, learning style, and specific challenges. Figuring out and consistently implementing these strategies is difficult for human tutors, especially when managing multiple students.\n",
       "*   **Building Rapport and Trust (the AI Challenge):** Creating a feeling of trust and rapport is extremely important. Students need to feel comfortable sharing their struggles and vulnerabilities. Earning this is much harder for an AI agent than a human, and relies on it consistently providing helpful, appropriate, and empathetic support.\n",
       "\n",
       "**Agentic AI Solution Opportunity:**\n",
       "\n",
       "An Agentic AI system could be designed to:\n",
       "\n",
       "1.  **Detect Real-Time Emotional State:** Utilize techniques like sentiment analysis of student input (text, voice) and potentially even analysis of engagement metrics (e.g., time spent on a problem, number of attempts) to detect signs of frustration, boredom, or disengagement in real-time.\n",
       "\n",
       "2.  **Proactively Intervene with Personalized Support:** Upon detecting negative emotional cues, the AI agent could proactively intervene with targeted support. This might include:\n",
       "    *   **Offering words of encouragement tailored to the student's personality and past successes.**  (e.g., \"Remember how you aced that quadratic equation? Let's break this down step-by-step. You've got this!\").\n",
       "    *   **Providing alternative explanations or examples of the concept, using different modalities (visual, auditory, kinesthetic).**\n",
       "    *   **Breaking the problem down into smaller, more manageable steps.**\n",
       "    *   **Offering a short break or a change of pace (e.g., a related puzzle or game).**\n",
       "    *   **Adjusting the difficulty level of the task.**\n",
       "\n",
       "3.  **Learn from Past Interactions:** The AI agent could continuously learn from past interactions to optimize its motivational strategies. It would track which interventions are most effective for each student and adjust its approach accordingly.\n",
       "\n",
       "4.  **Collaborate with Human Tutors:** The AI agent could alert human tutors to students who are consistently struggling with motivation or showing signs of disengagement. This allows the human tutor to provide more in-depth support and build a stronger personal connection.\n",
       "\n",
       "5.  **Develop a 'Personality' and Build Trust:** The agent needs to act consistently with a 'personality' that aligns with the student and is trustworthy. This can be done via conversational tone and a track record of providing accurate, helpful and empathetic support.\n",
       "\n",
       "**Why This is a High-Value Opportunity:**\n",
       "\n",
       "*   **Directly Impacts Learning Outcomes:** Increased motivation leads to increased engagement and ultimately, improved learning outcomes.\n",
       "*   **Differentiates the Product:** This proactive and personalized motivational support would be a significant differentiator compared to traditional tutoring services.\n",
       "*   **Addresses a Universal Need:** All students, regardless of their academic ability, experience fluctuations in motivation.\n",
       "*   **Leverages AI's Strengths:** This solution plays to AI's strengths in real-time analysis, personalization, and consistent application of strategies.\n",
       "\n",
       "By addressing the pain point of maintaining consistent student motivation and engagement, Agentic AI can significantly enhance the effectiveness and appeal of personalized education tutoring, creating a more positive and rewarding learning experience for students.\n"
      ],
      "text/plain": [
       "<IPython.core.display.Markdown object>"
      ]
     },
     "metadata": {},
     "output_type": "display_data"
    },
    {
     "data": {
      "text/markdown": [
       "### 🤖 Agentic AI Solution\n",
       "This is an excellent proposal! It clearly identifies a critical pain point and outlines a viable Agentic AI solution with well-defined functionalities. Here's a breakdown of what makes it strong and some suggestions for further development:\n",
       "\n",
       "**Strengths:**\n",
       "\n",
       "*   **Clear Problem Definition:**  The pain point of fluctuating student motivation is clearly articulated, highlighting the limitations of traditional tutoring and the potential of AI to address the issue.\n",
       "*   **Well-Defined Agent Capabilities:** The proposed solution leverages key AI capabilities like real-time emotional state detection, personalized intervention, learning from past interactions, and collaboration with human tutors.\n",
       "*   **Specific Examples:**  The examples of proactive interventions are particularly strong, illustrating how the AI agent could provide targeted support in different situations.  (e.g., \"Remember how you aced that quadratic equation?...\")\n",
       "*   **Focus on Personalization:** The emphasis on tailoring motivational strategies to the individual student's personality and learning style is crucial.\n",
       "*   **Human-AI Collaboration:** The recognition that AI should augment, not replace, human tutors is essential.  The proposed collaboration model is practical and realistic.\n",
       "*   **Addresses a Core Need:** Student motivation is foundational to learning, making this a high-impact area for intervention.\n",
       "*   **Differentiator:**  The solution provides a clear differentiator compared to existing tutoring solutions.\n",
       "\n",
       "**Suggestions for Further Development:**\n",
       "\n",
       "*   **Elaborate on Emotional State Detection:**  Go deeper into the technical details of how the AI would detect emotional states. Consider the following:\n",
       "    *   **Specific NLP techniques:**  Mention techniques like aspect-based sentiment analysis (identifying sentiment towards specific topics within the student's text), emotion recognition based on keywords and phrasing, and analysis of sentence structure and complexity.\n",
       "    *   **Data Sources Beyond Text and Voice:** Explore other potential data sources like facial expression analysis (if the student is using a webcam) and even physiological data (e.g., heart rate variability) if sensors are available.\n",
       "    *   **Handling Ambiguity:**  Acknowledge the challenges of accurately detecting emotional states and describe how the AI would handle ambiguity (e.g., by asking clarifying questions or relying on multiple data sources).\n",
       "    *   **Contextual Awareness:**  How will the agent understand the context of the student's emotions?  Is it frustration with a specific problem, or general fatigue?\n",
       "*   **Quantify Potential Impact:**  Attempt to quantify the potential impact of the solution. For example:\n",
       "    *   \"Studies show that motivated students spend X% more time studying and achieve Y% higher grades.\"\n",
       "    *   \"By proactively addressing frustration, we anticipate a Z% reduction in student dropout rates.\"\n",
       "    *   \"Our pilot program resulted in an average of A% improvement in test scores.\"  (Even if hypothetical, these examples add weight to your proposal.)\n",
       "*   **Expand on the 'Personality' Aspect:**\n",
       "    *   **Personality Archetypes:** Can you describe the types of personalities the agent could adopt (e.g., encouraging coach, patient mentor, playful guide)? How would the student select or the agent infer which personality to embody?\n",
       "    *   **Consistency:** How will you ensure consistency in the agent's language, tone, and behavior to build trust and rapport?\n",
       "    *   **Avoiding Anthropomorphism Pitfalls:** Explicitly address the potential pitfalls of overly anthropomorphizing the AI agent. It should be clear that the agent is a tool, not a friend.\n",
       "    *   **Adaptive Personality:**  Can the agent adapt its personality based on the student's response?\n",
       "*   **Ethical Considerations of Emotion Detection:** Discuss the ethical implications of monitoring a student's emotional state. How will you ensure privacy, data security, and transparency? How will you avoid using emotional data in a way that is manipulative or coercive?\n",
       "*   **Addressing False Positives and Negatives:** What happens if the agent incorrectly identifies a student's emotional state (false positive or false negative)? How will you minimize these errors and mitigate their impact?\n",
       "*   **Expand on Learning from Past Interactions:**\n",
       "    *   **Specific Learning Algorithms:** What specific machine learning algorithms would you use to learn from past interactions (e.g., reinforcement learning, collaborative filtering)?\n",
       "    *   **Feature Engineering:** What features would you use to represent student interactions (e.g., problem difficulty, type of intervention, student response, time spent)?\n",
       "    *   **Personalization Over Time:** How would the system ensure that the personalization remains relevant as the student progresses and their needs change?\n",
       "*   **Technical Feasibility:** Briefly address the technical feasibility of the solution. What existing technologies and resources could be leveraged? What are the biggest technical challenges?\n",
       "*   **User Interface (UI) Considerations:** How would the student interact with the AI agent?  What would the UI look like?  How would the student provide feedback on the agent's performance?\n",
       "\n",
       "**Revised Example Intervention (Incorporating Emotion Detection Nuance):**\n",
       "\n",
       "\"I noticed you've been working on this problem for a bit, and your typing speed has slowed down, which sometimes means students are feeling a little stuck or frustrated. Remember how you aced that quadratic equation? Let's break this problem down step-by-step. If you're feeling overwhelmed, we can also try a different approach or take a short break. Which would be most helpful for you right now?\"\n",
       "\n",
       "This revised example shows:\n",
       "\n",
       "*   **Emotion Detection Cue:** Explicitly mentions the observation (typing speed).\n",
       "*   **Association, not Judgement:**  Connects the cue to a potential emotional state (\"sometimes means students are feeling...\").\n",
       "*   **Personalization Reminder:** Links to a past success.\n",
       "*   **Actionable Options:** Provides concrete options for the student.\n",
       "*   **Empathetic Tone:** The tone is supportive and non-judgmental.\n",
       "\n",
       "By incorporating these suggestions, you can further strengthen your proposal and demonstrate a deeper understanding of the challenges and opportunities in using Agentic AI for personalized education tutoring.\n"
      ],
      "text/plain": [
       "<IPython.core.display.Markdown object>"
      ]
     },
     "metadata": {},
     "output_type": "display_data"
    }
   ],
   "source": [
    "from IPython.display import Markdown, display\n",
    "\n",
    "# --- Step 1: Pick a business area ---\n",
    "prompt_1 = [\n",
    "    {\"role\": \"user\", \"content\": \"Pick a business area that might be worth exploring for an Agentic AI opportunity.\"}\n",
    "]\n",
    "\n",
    "response_1 = gemini_client.chat.completions.create(\n",
    "    model=\"gemini-2.0-flash\",\n",
    "    messages=prompt_1\n",
    ")\n",
    "\n",
    "business_area = response_1.choices[0].message.content\n",
    "display(Markdown(f\"### 🏢 Business Area\\n{business_area}\"))\n",
    "\n",
    "\n",
    "# --- Step 2: Identify a pain point ---\n",
    "prompt_2 = [\n",
    "    {\"role\": \"user\", \"content\": f\"In the business area '{business_area}', describe a major pain-point or challenge that might be ripe for an Agentic AI solution.\"}\n",
    "]\n",
    "\n",
    "response_2 = gemini_client.chat.completions.create(\n",
    "    model=\"gemini-2.0-flash\",\n",
    "    messages=prompt_2\n",
    ")\n",
    "\n",
    "pain_point = response_2.choices[0].message.content\n",
    "display(Markdown(f\"### 😣 Pain Point\\n{pain_point}\"))\n",
    "\n",
    "\n",
    "# --- Step 3: Propose an Agentic AI solution ---\n",
    "prompt_3 = [\n",
    "    {\"role\": \"user\", \"content\": f\"Propose a creative Agentic AI solution to address the following pain-point in the business area '{business_area}': {pain_point}\"}\n",
    "]\n",
    "\n",
    "response_3 = gemini_client.chat.completions.create(\n",
    "    model=\"gemini-2.0-flash\",\n",
    "    messages=prompt_3\n",
    ")\n",
    "\n",
    "solution = response_3.choices[0].message.content\n",
    "display(Markdown(f\"### 🤖 Agentic AI Solution\\n{solution}\"))\n"
   ]
  },
  {
   "cell_type": "markdown",
   "metadata": {},
   "source": []
  }
 ],
 "metadata": {
  "kernelspec": {
   "display_name": ".venv",
   "language": "python",
   "name": "python3"
  },
  "language_info": {
   "codemirror_mode": {
    "name": "ipython",
    "version": 3
   },
   "file_extension": ".py",
   "mimetype": "text/x-python",
   "name": "python",
   "nbconvert_exporter": "python",
   "pygments_lexer": "ipython3",
   "version": "3.12.8"
  }
 },
 "nbformat": 4,
 "nbformat_minor": 2
}
